{
 "cells": [
  {
   "attachments": {},
   "cell_type": "markdown",
   "metadata": {},
   "source": [
    "# Setup Notebook"
   ]
  },
  {
   "cell_type": "code",
   "execution_count": 1,
   "metadata": {},
   "outputs": [
    {
     "name": "stdout",
     "output_type": "stream",
     "text": [
      "/dss/dsshome1/0C/ra93lal2/cma/CMA_Fairness_v2\n"
     ]
    },
    {
     "name": "stderr",
     "output_type": "stream",
     "text": [
      "/dss/dsshome1/0C/ra93lal2/.local/share/virtualenvs/CMA_Fairness_v2-3j10GkSs/lib/python3.10/site-packages/IPython/core/magics/osm.py:393: UserWarning: This is now an optional IPython functionality, using bookmarks requires you to install the `pickleshare` library.\n",
      "  bkms = self.shell.db.get('bookmarks', {})\n",
      "/dss/dsshome1/0C/ra93lal2/.local/share/virtualenvs/CMA_Fairness_v2-3j10GkSs/lib/python3.10/site-packages/IPython/core/magics/osm.py:417: UserWarning: This is now an optional IPython functionality, setting dhist requires you to install the `pickleshare` library.\n",
      "  self.shell.db['dhist'] = compress_dhist(dhist)[-100:]\n"
     ]
    }
   ],
   "source": [
    "# When working in AI LRZq\n",
    "%cd ~/cma/CMA_Fairness_v2"
   ]
  },
  {
   "cell_type": "code",
   "execution_count": 2,
   "metadata": {},
   "outputs": [
    {
     "name": "stdout",
     "output_type": "stream",
     "text": [
      "/dss/dsshome1/0C/ra93lal2/cma/CMA_Fairness_v2\n",
      "The data has N = 900 rows and N = 14 columns.\n"
     ]
    }
   ],
   "source": [
    "%run analysis_setup_cp.ipynb"
   ]
  },
  {
   "attachments": {},
   "cell_type": "markdown",
   "metadata": {},
   "source": [
    "## Prepare Data\n"
   ]
  },
  {
   "cell_type": "code",
   "execution_count": 3,
   "metadata": {},
   "outputs": [
    {
     "ename": "FileNotFoundError",
     "evalue": "[Errno 2] No such file or directory: 'output/runs/16/combined_cp_metrics.csv'",
     "output_type": "error",
     "traceback": [
      "\u001b[0;31m---------------------------------------------------------------------------\u001b[0m",
      "\u001b[0;31mFileNotFoundError\u001b[0m                         Traceback (most recent call last)",
      "Cell \u001b[0;32mIn[3], line 7\u001b[0m\n\u001b[1;32m      4\u001b[0m RUN_TO_ANALYSE \u001b[38;5;241m=\u001b[39m \u001b[38;5;124m\"\u001b[39m\u001b[38;5;124m16\u001b[39m\u001b[38;5;124m\"\u001b[39m\n\u001b[1;32m      5\u001b[0m CP_DIR \u001b[38;5;241m=\u001b[39m Path(\u001b[38;5;124m\"\u001b[39m\u001b[38;5;124moutput\u001b[39m\u001b[38;5;124m\"\u001b[39m) \u001b[38;5;241m/\u001b[39m \u001b[38;5;124m\"\u001b[39m\u001b[38;5;124mruns\u001b[39m\u001b[38;5;124m\"\u001b[39m \u001b[38;5;241m/\u001b[39m \u001b[38;5;28mstr\u001b[39m(RUN_TO_ANALYSE)\n\u001b[0;32m----> 7\u001b[0m df_agg \u001b[38;5;241m=\u001b[39m \u001b[43mpd\u001b[49m\u001b[38;5;241;43m.\u001b[39;49m\u001b[43mread_csv\u001b[49m\u001b[43m(\u001b[49m\u001b[43mCP_DIR\u001b[49m\u001b[43m \u001b[49m\u001b[38;5;241;43m/\u001b[39;49m\u001b[43m \u001b[49m\u001b[38;5;124;43m\"\u001b[39;49m\u001b[38;5;124;43mcombined_cp_metrics.csv\u001b[39;49m\u001b[38;5;124;43m\"\u001b[39;49m\u001b[43m)\u001b[49m\n",
      "File \u001b[0;32m~/.local/share/virtualenvs/CMA_Fairness_v2-3j10GkSs/lib/python3.10/site-packages/pandas/util/_decorators.py:311\u001b[0m, in \u001b[0;36mdeprecate_nonkeyword_arguments.<locals>.decorate.<locals>.wrapper\u001b[0;34m(*args, **kwargs)\u001b[0m\n\u001b[1;32m    305\u001b[0m \u001b[38;5;28;01mif\u001b[39;00m \u001b[38;5;28mlen\u001b[39m(args) \u001b[38;5;241m>\u001b[39m num_allow_args:\n\u001b[1;32m    306\u001b[0m     warnings\u001b[38;5;241m.\u001b[39mwarn(\n\u001b[1;32m    307\u001b[0m         msg\u001b[38;5;241m.\u001b[39mformat(arguments\u001b[38;5;241m=\u001b[39marguments),\n\u001b[1;32m    308\u001b[0m         \u001b[38;5;167;01mFutureWarning\u001b[39;00m,\n\u001b[1;32m    309\u001b[0m         stacklevel\u001b[38;5;241m=\u001b[39mstacklevel,\n\u001b[1;32m    310\u001b[0m     )\n\u001b[0;32m--> 311\u001b[0m \u001b[38;5;28;01mreturn\u001b[39;00m \u001b[43mfunc\u001b[49m\u001b[43m(\u001b[49m\u001b[38;5;241;43m*\u001b[39;49m\u001b[43margs\u001b[49m\u001b[43m,\u001b[49m\u001b[43m \u001b[49m\u001b[38;5;241;43m*\u001b[39;49m\u001b[38;5;241;43m*\u001b[39;49m\u001b[43mkwargs\u001b[49m\u001b[43m)\u001b[49m\n",
      "File \u001b[0;32m~/.local/share/virtualenvs/CMA_Fairness_v2-3j10GkSs/lib/python3.10/site-packages/pandas/io/parsers/readers.py:678\u001b[0m, in \u001b[0;36mread_csv\u001b[0;34m(filepath_or_buffer, sep, delimiter, header, names, index_col, usecols, squeeze, prefix, mangle_dupe_cols, dtype, engine, converters, true_values, false_values, skipinitialspace, skiprows, skipfooter, nrows, na_values, keep_default_na, na_filter, verbose, skip_blank_lines, parse_dates, infer_datetime_format, keep_date_col, date_parser, dayfirst, cache_dates, iterator, chunksize, compression, thousands, decimal, lineterminator, quotechar, quoting, doublequote, escapechar, comment, encoding, encoding_errors, dialect, error_bad_lines, warn_bad_lines, on_bad_lines, delim_whitespace, low_memory, memory_map, float_precision, storage_options)\u001b[0m\n\u001b[1;32m    663\u001b[0m kwds_defaults \u001b[38;5;241m=\u001b[39m _refine_defaults_read(\n\u001b[1;32m    664\u001b[0m     dialect,\n\u001b[1;32m    665\u001b[0m     delimiter,\n\u001b[0;32m   (...)\u001b[0m\n\u001b[1;32m    674\u001b[0m     defaults\u001b[38;5;241m=\u001b[39m{\u001b[38;5;124m\"\u001b[39m\u001b[38;5;124mdelimiter\u001b[39m\u001b[38;5;124m\"\u001b[39m: \u001b[38;5;124m\"\u001b[39m\u001b[38;5;124m,\u001b[39m\u001b[38;5;124m\"\u001b[39m},\n\u001b[1;32m    675\u001b[0m )\n\u001b[1;32m    676\u001b[0m kwds\u001b[38;5;241m.\u001b[39mupdate(kwds_defaults)\n\u001b[0;32m--> 678\u001b[0m \u001b[38;5;28;01mreturn\u001b[39;00m \u001b[43m_read\u001b[49m\u001b[43m(\u001b[49m\u001b[43mfilepath_or_buffer\u001b[49m\u001b[43m,\u001b[49m\u001b[43m \u001b[49m\u001b[43mkwds\u001b[49m\u001b[43m)\u001b[49m\n",
      "File \u001b[0;32m~/.local/share/virtualenvs/CMA_Fairness_v2-3j10GkSs/lib/python3.10/site-packages/pandas/io/parsers/readers.py:575\u001b[0m, in \u001b[0;36m_read\u001b[0;34m(filepath_or_buffer, kwds)\u001b[0m\n\u001b[1;32m    572\u001b[0m _validate_names(kwds\u001b[38;5;241m.\u001b[39mget(\u001b[38;5;124m\"\u001b[39m\u001b[38;5;124mnames\u001b[39m\u001b[38;5;124m\"\u001b[39m, \u001b[38;5;28;01mNone\u001b[39;00m))\n\u001b[1;32m    574\u001b[0m \u001b[38;5;66;03m# Create the parser.\u001b[39;00m\n\u001b[0;32m--> 575\u001b[0m parser \u001b[38;5;241m=\u001b[39m \u001b[43mTextFileReader\u001b[49m\u001b[43m(\u001b[49m\u001b[43mfilepath_or_buffer\u001b[49m\u001b[43m,\u001b[49m\u001b[43m \u001b[49m\u001b[38;5;241;43m*\u001b[39;49m\u001b[38;5;241;43m*\u001b[39;49m\u001b[43mkwds\u001b[49m\u001b[43m)\u001b[49m\n\u001b[1;32m    577\u001b[0m \u001b[38;5;28;01mif\u001b[39;00m chunksize \u001b[38;5;129;01mor\u001b[39;00m iterator:\n\u001b[1;32m    578\u001b[0m     \u001b[38;5;28;01mreturn\u001b[39;00m parser\n",
      "File \u001b[0;32m~/.local/share/virtualenvs/CMA_Fairness_v2-3j10GkSs/lib/python3.10/site-packages/pandas/io/parsers/readers.py:932\u001b[0m, in \u001b[0;36mTextFileReader.__init__\u001b[0;34m(self, f, engine, **kwds)\u001b[0m\n\u001b[1;32m    929\u001b[0m     \u001b[38;5;28mself\u001b[39m\u001b[38;5;241m.\u001b[39moptions[\u001b[38;5;124m\"\u001b[39m\u001b[38;5;124mhas_index_names\u001b[39m\u001b[38;5;124m\"\u001b[39m] \u001b[38;5;241m=\u001b[39m kwds[\u001b[38;5;124m\"\u001b[39m\u001b[38;5;124mhas_index_names\u001b[39m\u001b[38;5;124m\"\u001b[39m]\n\u001b[1;32m    931\u001b[0m \u001b[38;5;28mself\u001b[39m\u001b[38;5;241m.\u001b[39mhandles: IOHandles \u001b[38;5;241m|\u001b[39m \u001b[38;5;28;01mNone\u001b[39;00m \u001b[38;5;241m=\u001b[39m \u001b[38;5;28;01mNone\u001b[39;00m\n\u001b[0;32m--> 932\u001b[0m \u001b[38;5;28mself\u001b[39m\u001b[38;5;241m.\u001b[39m_engine \u001b[38;5;241m=\u001b[39m \u001b[38;5;28;43mself\u001b[39;49m\u001b[38;5;241;43m.\u001b[39;49m\u001b[43m_make_engine\u001b[49m\u001b[43m(\u001b[49m\u001b[43mf\u001b[49m\u001b[43m,\u001b[49m\u001b[43m \u001b[49m\u001b[38;5;28;43mself\u001b[39;49m\u001b[38;5;241;43m.\u001b[39;49m\u001b[43mengine\u001b[49m\u001b[43m)\u001b[49m\n",
      "File \u001b[0;32m~/.local/share/virtualenvs/CMA_Fairness_v2-3j10GkSs/lib/python3.10/site-packages/pandas/io/parsers/readers.py:1216\u001b[0m, in \u001b[0;36mTextFileReader._make_engine\u001b[0;34m(self, f, engine)\u001b[0m\n\u001b[1;32m   1212\u001b[0m     mode \u001b[38;5;241m=\u001b[39m \u001b[38;5;124m\"\u001b[39m\u001b[38;5;124mrb\u001b[39m\u001b[38;5;124m\"\u001b[39m\n\u001b[1;32m   1213\u001b[0m \u001b[38;5;66;03m# error: No overload variant of \"get_handle\" matches argument types\u001b[39;00m\n\u001b[1;32m   1214\u001b[0m \u001b[38;5;66;03m# \"Union[str, PathLike[str], ReadCsvBuffer[bytes], ReadCsvBuffer[str]]\"\u001b[39;00m\n\u001b[1;32m   1215\u001b[0m \u001b[38;5;66;03m# , \"str\", \"bool\", \"Any\", \"Any\", \"Any\", \"Any\", \"Any\"\u001b[39;00m\n\u001b[0;32m-> 1216\u001b[0m \u001b[38;5;28mself\u001b[39m\u001b[38;5;241m.\u001b[39mhandles \u001b[38;5;241m=\u001b[39m \u001b[43mget_handle\u001b[49m\u001b[43m(\u001b[49m\u001b[43m  \u001b[49m\u001b[38;5;66;43;03m# type: ignore[call-overload]\u001b[39;49;00m\n\u001b[1;32m   1217\u001b[0m \u001b[43m    \u001b[49m\u001b[43mf\u001b[49m\u001b[43m,\u001b[49m\n\u001b[1;32m   1218\u001b[0m \u001b[43m    \u001b[49m\u001b[43mmode\u001b[49m\u001b[43m,\u001b[49m\n\u001b[1;32m   1219\u001b[0m \u001b[43m    \u001b[49m\u001b[43mencoding\u001b[49m\u001b[38;5;241;43m=\u001b[39;49m\u001b[38;5;28;43mself\u001b[39;49m\u001b[38;5;241;43m.\u001b[39;49m\u001b[43moptions\u001b[49m\u001b[38;5;241;43m.\u001b[39;49m\u001b[43mget\u001b[49m\u001b[43m(\u001b[49m\u001b[38;5;124;43m\"\u001b[39;49m\u001b[38;5;124;43mencoding\u001b[39;49m\u001b[38;5;124;43m\"\u001b[39;49m\u001b[43m,\u001b[49m\u001b[43m \u001b[49m\u001b[38;5;28;43;01mNone\u001b[39;49;00m\u001b[43m)\u001b[49m\u001b[43m,\u001b[49m\n\u001b[1;32m   1220\u001b[0m \u001b[43m    \u001b[49m\u001b[43mcompression\u001b[49m\u001b[38;5;241;43m=\u001b[39;49m\u001b[38;5;28;43mself\u001b[39;49m\u001b[38;5;241;43m.\u001b[39;49m\u001b[43moptions\u001b[49m\u001b[38;5;241;43m.\u001b[39;49m\u001b[43mget\u001b[49m\u001b[43m(\u001b[49m\u001b[38;5;124;43m\"\u001b[39;49m\u001b[38;5;124;43mcompression\u001b[39;49m\u001b[38;5;124;43m\"\u001b[39;49m\u001b[43m,\u001b[49m\u001b[43m \u001b[49m\u001b[38;5;28;43;01mNone\u001b[39;49;00m\u001b[43m)\u001b[49m\u001b[43m,\u001b[49m\n\u001b[1;32m   1221\u001b[0m \u001b[43m    \u001b[49m\u001b[43mmemory_map\u001b[49m\u001b[38;5;241;43m=\u001b[39;49m\u001b[38;5;28;43mself\u001b[39;49m\u001b[38;5;241;43m.\u001b[39;49m\u001b[43moptions\u001b[49m\u001b[38;5;241;43m.\u001b[39;49m\u001b[43mget\u001b[49m\u001b[43m(\u001b[49m\u001b[38;5;124;43m\"\u001b[39;49m\u001b[38;5;124;43mmemory_map\u001b[39;49m\u001b[38;5;124;43m\"\u001b[39;49m\u001b[43m,\u001b[49m\u001b[43m \u001b[49m\u001b[38;5;28;43;01mFalse\u001b[39;49;00m\u001b[43m)\u001b[49m\u001b[43m,\u001b[49m\n\u001b[1;32m   1222\u001b[0m \u001b[43m    \u001b[49m\u001b[43mis_text\u001b[49m\u001b[38;5;241;43m=\u001b[39;49m\u001b[43mis_text\u001b[49m\u001b[43m,\u001b[49m\n\u001b[1;32m   1223\u001b[0m \u001b[43m    \u001b[49m\u001b[43merrors\u001b[49m\u001b[38;5;241;43m=\u001b[39;49m\u001b[38;5;28;43mself\u001b[39;49m\u001b[38;5;241;43m.\u001b[39;49m\u001b[43moptions\u001b[49m\u001b[38;5;241;43m.\u001b[39;49m\u001b[43mget\u001b[49m\u001b[43m(\u001b[49m\u001b[38;5;124;43m\"\u001b[39;49m\u001b[38;5;124;43mencoding_errors\u001b[39;49m\u001b[38;5;124;43m\"\u001b[39;49m\u001b[43m,\u001b[49m\u001b[43m \u001b[49m\u001b[38;5;124;43m\"\u001b[39;49m\u001b[38;5;124;43mstrict\u001b[39;49m\u001b[38;5;124;43m\"\u001b[39;49m\u001b[43m)\u001b[49m\u001b[43m,\u001b[49m\n\u001b[1;32m   1224\u001b[0m \u001b[43m    \u001b[49m\u001b[43mstorage_options\u001b[49m\u001b[38;5;241;43m=\u001b[39;49m\u001b[38;5;28;43mself\u001b[39;49m\u001b[38;5;241;43m.\u001b[39;49m\u001b[43moptions\u001b[49m\u001b[38;5;241;43m.\u001b[39;49m\u001b[43mget\u001b[49m\u001b[43m(\u001b[49m\u001b[38;5;124;43m\"\u001b[39;49m\u001b[38;5;124;43mstorage_options\u001b[39;49m\u001b[38;5;124;43m\"\u001b[39;49m\u001b[43m,\u001b[49m\u001b[43m \u001b[49m\u001b[38;5;28;43;01mNone\u001b[39;49;00m\u001b[43m)\u001b[49m\u001b[43m,\u001b[49m\n\u001b[1;32m   1225\u001b[0m \u001b[43m\u001b[49m\u001b[43m)\u001b[49m\n\u001b[1;32m   1226\u001b[0m \u001b[38;5;28;01massert\u001b[39;00m \u001b[38;5;28mself\u001b[39m\u001b[38;5;241m.\u001b[39mhandles \u001b[38;5;129;01mis\u001b[39;00m \u001b[38;5;129;01mnot\u001b[39;00m \u001b[38;5;28;01mNone\u001b[39;00m\n\u001b[1;32m   1227\u001b[0m f \u001b[38;5;241m=\u001b[39m \u001b[38;5;28mself\u001b[39m\u001b[38;5;241m.\u001b[39mhandles\u001b[38;5;241m.\u001b[39mhandle\n",
      "File \u001b[0;32m~/.local/share/virtualenvs/CMA_Fairness_v2-3j10GkSs/lib/python3.10/site-packages/pandas/io/common.py:786\u001b[0m, in \u001b[0;36mget_handle\u001b[0;34m(path_or_buf, mode, encoding, compression, memory_map, is_text, errors, storage_options)\u001b[0m\n\u001b[1;32m    781\u001b[0m \u001b[38;5;28;01melif\u001b[39;00m \u001b[38;5;28misinstance\u001b[39m(handle, \u001b[38;5;28mstr\u001b[39m):\n\u001b[1;32m    782\u001b[0m     \u001b[38;5;66;03m# Check whether the filename is to be opened in binary mode.\u001b[39;00m\n\u001b[1;32m    783\u001b[0m     \u001b[38;5;66;03m# Binary mode does not support 'encoding' and 'newline'.\u001b[39;00m\n\u001b[1;32m    784\u001b[0m     \u001b[38;5;28;01mif\u001b[39;00m ioargs\u001b[38;5;241m.\u001b[39mencoding \u001b[38;5;129;01mand\u001b[39;00m \u001b[38;5;124m\"\u001b[39m\u001b[38;5;124mb\u001b[39m\u001b[38;5;124m\"\u001b[39m \u001b[38;5;129;01mnot\u001b[39;00m \u001b[38;5;129;01min\u001b[39;00m ioargs\u001b[38;5;241m.\u001b[39mmode:\n\u001b[1;32m    785\u001b[0m         \u001b[38;5;66;03m# Encoding\u001b[39;00m\n\u001b[0;32m--> 786\u001b[0m         handle \u001b[38;5;241m=\u001b[39m \u001b[38;5;28;43mopen\u001b[39;49m\u001b[43m(\u001b[49m\n\u001b[1;32m    787\u001b[0m \u001b[43m            \u001b[49m\u001b[43mhandle\u001b[49m\u001b[43m,\u001b[49m\n\u001b[1;32m    788\u001b[0m \u001b[43m            \u001b[49m\u001b[43mioargs\u001b[49m\u001b[38;5;241;43m.\u001b[39;49m\u001b[43mmode\u001b[49m\u001b[43m,\u001b[49m\n\u001b[1;32m    789\u001b[0m \u001b[43m            \u001b[49m\u001b[43mencoding\u001b[49m\u001b[38;5;241;43m=\u001b[39;49m\u001b[43mioargs\u001b[49m\u001b[38;5;241;43m.\u001b[39;49m\u001b[43mencoding\u001b[49m\u001b[43m,\u001b[49m\n\u001b[1;32m    790\u001b[0m \u001b[43m            \u001b[49m\u001b[43merrors\u001b[49m\u001b[38;5;241;43m=\u001b[39;49m\u001b[43merrors\u001b[49m\u001b[43m,\u001b[49m\n\u001b[1;32m    791\u001b[0m \u001b[43m            \u001b[49m\u001b[43mnewline\u001b[49m\u001b[38;5;241;43m=\u001b[39;49m\u001b[38;5;124;43m\"\u001b[39;49m\u001b[38;5;124;43m\"\u001b[39;49m\u001b[43m,\u001b[49m\n\u001b[1;32m    792\u001b[0m \u001b[43m        \u001b[49m\u001b[43m)\u001b[49m\n\u001b[1;32m    793\u001b[0m     \u001b[38;5;28;01melse\u001b[39;00m:\n\u001b[1;32m    794\u001b[0m         \u001b[38;5;66;03m# Binary mode\u001b[39;00m\n\u001b[1;32m    795\u001b[0m         handle \u001b[38;5;241m=\u001b[39m \u001b[38;5;28mopen\u001b[39m(handle, ioargs\u001b[38;5;241m.\u001b[39mmode)\n",
      "\u001b[0;31mFileNotFoundError\u001b[0m: [Errno 2] No such file or directory: 'output/runs/16/combined_cp_metrics.csv'"
     ]
    }
   ],
   "source": [
    "import pandas as pd\n",
    "from pathlib import Path\n",
    "\n",
    "RUN_TO_ANALYSE = \"16\"\n",
    "CP_DIR = Path(\"output\") / \"runs\" / str(RUN_TO_ANALYSE)\n",
    "\n",
    "df_agg = pd.read_csv(CP_DIR / \"combined_cp_metrics.csv\")"
   ]
  },
  {
   "cell_type": "code",
   "execution_count": null,
   "metadata": {},
   "outputs": [],
   "source": [
    "df_agg.head()"
   ]
  },
  {
   "cell_type": "code",
   "execution_count": null,
   "metadata": {},
   "outputs": [],
   "source": [
    "df_agg.shape"
   ]
  },
  {
   "cell_type": "code",
   "execution_count": null,
   "metadata": {},
   "outputs": [],
   "source": [
    "main_cp_metric = \"avg_size\" # \"avg_size\", \"cov_nongerman_female\""
   ]
  },
  {
   "attachments": {},
   "cell_type": "markdown",
   "metadata": {},
   "source": [
    "# Calculate Variable Importance"
   ]
  },
  {
   "attachments": {},
   "cell_type": "markdown",
   "metadata": {},
   "source": [
    "## Use a Lasso Regression to estimate Importance of Settings"
   ]
  },
  {
   "cell_type": "code",
   "execution_count": null,
   "metadata": {},
   "outputs": [],
   "source": [
    "cols_design_dec = [\"universe_training_year\", \n",
    "                   \"universe_training_size\", \n",
    "                   \"universe_scale\",\n",
    "                   \"universe_model\", \n",
    "                   \"universe_exclude_features\", \n",
    "                   \"universe_exclude_subgroups\"]\n",
    "X = df_agg[cols_design_dec]\n",
    "y = df_agg[main_cp_metric]"
   ]
  },
  {
   "cell_type": "code",
   "execution_count": null,
   "metadata": {},
   "outputs": [],
   "source": [
    "X.head()"
   ]
  },
  {
   "cell_type": "code",
   "execution_count": null,
   "metadata": {},
   "outputs": [],
   "source": [
    "X.shape"
   ]
  },
  {
   "cell_type": "code",
   "execution_count": null,
   "metadata": {},
   "outputs": [],
   "source": [
    "y.shape"
   ]
  },
  {
   "attachments": {},
   "cell_type": "markdown",
   "metadata": {},
   "source": [
    "### Main Effects of Settings Only (i.e. no interactions)"
   ]
  },
  {
   "cell_type": "code",
   "execution_count": null,
   "metadata": {},
   "outputs": [],
   "source": [
    "from sklearn.pipeline import make_pipeline\n",
    "from sklearn.preprocessing import OneHotEncoder\n",
    "from sklearn.linear_model import LassoCV\n",
    "\n",
    "# Do preprocessing in a separate pipeline from model fitting\n",
    "# (for eli5 to work)\n",
    "preprocessor = make_pipeline(\n",
    "    OneHotEncoder(), \n",
    ").fit(X) \n",
    "X_processed = preprocessor.transform(X) \n",
    "\n",
    "# Fit a Lasso regression model with cross-validation to the processed data\n",
    "lasso_reg = LassoCV(cv=5, random_state=0).fit(X_processed, y)\n",
    "\n",
    "# Check whether it's predictive at all\n",
    "lasso_reg.score(X_processed, y) # Evaluate the model's R^2 score on the training data"
   ]
  },
  {
   "cell_type": "markdown",
   "metadata": {},
   "source": [
    "R² = 1.0: Perfect predictions\n",
    "\n",
    "R² = 0.0: Model does no better than predicting the mean\n",
    "\n",
    "R² < 0.0: Model is worse than just predicting the mean"
   ]
  },
  {
   "attachments": {},
   "cell_type": "markdown",
   "metadata": {},
   "source": [
    "Weights of importance:"
   ]
  },
  {
   "cell_type": "code",
   "execution_count": null,
   "metadata": {},
   "outputs": [],
   "source": [
    "# Visualize the importance of each feature in trained lasso_reg model\n",
    "import eli5\n",
    "eli5.show_weights(lasso_reg, top=-1, feature_names = preprocessor.get_feature_names_out())"
   ]
  },
  {
   "attachments": {},
   "cell_type": "markdown",
   "metadata": {},
   "source": [
    "### Including Interactions"
   ]
  },
  {
   "cell_type": "code",
   "execution_count": null,
   "metadata": {},
   "outputs": [],
   "source": [
    "from sklearn.pipeline import make_pipeline\n",
    "from sklearn.preprocessing import OneHotEncoder, PolynomialFeatures\n",
    "from sklearn.linear_model import LassoCV\n",
    "\n",
    "# Do preprocessing w/o a pipeline for eli5 to work\n",
    "preprocessor = make_pipeline(\n",
    "    OneHotEncoder(),\n",
    "    PolynomialFeatures(degree=2),\n",
    ").fit(X)\n",
    "X_processed = preprocessor.transform(X)\n",
    "\n",
    "lasso_reg = LassoCV(cv=5, random_state=0).fit(X_processed, y)\n",
    "\n",
    "# Check whether it's predictive at all\n",
    "lasso_reg.score(X_processed, y) # Evaluate the model's R^2 score on the training data"
   ]
  },
  {
   "attachments": {},
   "cell_type": "markdown",
   "metadata": {},
   "source": [
    "Weights of importance:"
   ]
  },
  {
   "cell_type": "code",
   "execution_count": null,
   "metadata": {},
   "outputs": [],
   "source": [
    "import eli5\n",
    "eli5.show_weights(lasso_reg, top=-1, feature_names = preprocessor.get_feature_names_out())"
   ]
  },
  {
   "attachments": {},
   "cell_type": "markdown",
   "metadata": {},
   "source": [
    "## Use a functinoal ANOVA (fANOVA) to Analyze Setting Importance\n",
    "\n",
    "Based on the following paper:\n",
    "\n",
    "Hutter, F., Hoos, H., & Leyton-Brown, K. (2014). An Efficient Approach for Assessing Hyperparameter Importance. Proceedings of the 31st International Conference on Machine Learning, 754–762. https://proceedings.mlr.press/v32/hutter14.html\n"
   ]
  },
  {
   "cell_type": "code",
   "execution_count": null,
   "metadata": {},
   "outputs": [],
   "source": [
    "from fairness_multiverse.analysis import MultiverseFanova\n",
    "\n",
    "m_fanova = MultiverseFanova(features = df_agg[cols_design_dec], outcome = df_agg[main_cp_metric])"
   ]
  },
  {
   "cell_type": "code",
   "execution_count": null,
   "metadata": {},
   "outputs": [],
   "source": [
    "m_fanova.quantify_individual_importance()"
   ]
  },
  {
   "cell_type": "code",
   "execution_count": null,
   "metadata": {},
   "outputs": [],
   "source": [
    "m_fanova.quantify_importance(save_to = CP_DIR/ f\"fanova_importance_interactions-overall_{main_cp_metric}.csv\")"
   ]
  },
  {
   "cell_type": "code",
   "execution_count": null,
   "metadata": {},
   "outputs": [],
   "source": [
    "# Latex Table \"10 most important decisions or decision interactions\"\n",
    "\n",
    "pd.set_option('display.max_colwidth', None)  \n",
    "\n",
    "fanova_df = m_fanova.quantify_importance()\n",
    "\n",
    "top10 = (\n",
    "    fanova_df\n",
    "    .sort_values('individual importance', ascending=False)\n",
    "    .head(10)\n",
    "    .reset_index(drop=True)\n",
    ")\n",
    "\n",
    "# Detect main vs. N-way interaction\n",
    "def effect_type(row):\n",
    "    levels = [row[f'level_{i}'] for i in range(5) if pd.notna(row.get(f'level_{i}'))]\n",
    "    return 'main' if len(levels) == 1 else f'{len(levels)}-way int.'\n",
    "\n",
    "top10['Effect Type'] = top10.apply(effect_type, axis=1)\n",
    "\n",
    "def clean_level(name: str) -> str:\n",
    "    if pd.isna(name): \n",
    "        return \"\"\n",
    "    # strip leading universe_\n",
    "    if name.startswith(\"universe_\"):\n",
    "        name = name[len(\"universe_\"):]\n",
    "    # snake_case → CamelCase\n",
    "    return \"\".join(part.capitalize() for part in name.split(\"_\"))\n",
    "\n",
    "def fmt_level(name: str) -> str:\n",
    "    return f\"\\\\textit{{{clean_level(name)}}}\"\n",
    "\n",
    "top10[\"Decision / Interaction of Decisions\"] = (\n",
    "    top10\n",
    "    .apply(\n",
    "        lambda row: \" $\\\\times$ \".join(\n",
    "            fmt_level(row[f\"level_{i}\"])\n",
    "            for i in range(5)                      # loop over 0–4\n",
    "            if pd.notna(row.get(f\"level_{i}\"))\n",
    "        ),\n",
    "        axis=1,\n",
    "    )\n",
    ")\n",
    "\n",
    "out = top10[[\n",
    "    'Effect Type',\n",
    "    'Decision / Interaction of Decisions',\n",
    "    'individual importance',\n",
    "    'individual std'\n",
    "]].copy()\n",
    "out.columns = [\n",
    "    'Effect Type',\n",
    "    'Decision / Interaction of Decisions',\n",
    "    'Importance',\n",
    "    'Std. Deviation'\n",
    "]\n",
    "\n",
    "out['Importance']    = out['Importance'].round(3)\n",
    "out['Std. Deviation']= out['Std. Deviation'].round(3)\n",
    "\n",
    "raw = out.to_latex(\n",
    "    index=False,\n",
    "    escape=False,       \n",
    "    column_format='llrr'\n",
    ")\n",
    "\n",
    "lines = raw.splitlines()\n",
    "new_lines = []\n",
    "hcount = 0\n",
    "for ln in lines:\n",
    "    if ln.strip() == r'\\hline':\n",
    "        hcount += 1\n",
    "        if hcount == 1:\n",
    "            new_lines.append(r'\\toprule')\n",
    "        elif hcount == 2:\n",
    "            new_lines.append(r'\\midrule')\n",
    "        else:\n",
    "            new_lines.append(r'\\bottomrule')\n",
    "    else:\n",
    "        new_lines.append(ln)\n",
    "fixed_tabular = \"\\n\".join(new_lines)\n",
    "\n",
    "# 9. wrap in full table environment\n",
    "latex = f\"\"\"\\\\begin{{table}}\n",
    "\\\\centering\n",
    "\\\\caption{{The 10 most important decisions or decision interactions and their relative importance for the average prediction set size.}}\n",
    "\\\\label{{tab:fanova_top10}}\n",
    "{fixed_tabular}\n",
    "\\\\end{{table}}\n",
    "\"\"\"\n",
    "\n",
    "output_path = CP_DIR / f\"fanova_top10_{main_cp_metric}.tex\"\n",
    "output_path.write_text(latex)"
   ]
  },
  {
   "cell_type": "markdown",
   "metadata": {},
   "source": [
    "# Visualizations Avg. Prediction Set Size"
   ]
  },
  {
   "cell_type": "code",
   "execution_count": null,
   "metadata": {},
   "outputs": [],
   "source": [
    "# Plot 1D marginal\n",
    "#from fanova import visualizer\n",
    "\n",
    "#vis = visualizer.Visualizer(m_fanova.fanova, m_fanova.configuration_space, directory = str(CP_DIR))\n",
    "#vis.plot_marginal(4)"
   ]
  },
  {
   "cell_type": "code",
   "execution_count": null,
   "metadata": {},
   "outputs": [],
   "source": [
    "import matplotlib.pyplot as plt\n",
    "import seaborn as sns\n",
    "import matplotlib.gridspec as gridspec\n",
    "\n",
    "# Label mapping\n",
    "label_map = {\n",
    "    'universe_training_size': 'Training Size',\n",
    "    'universe_training_year': 'Training Year',\n",
    "    'universe_scale': 'Scaling',\n",
    "    'universe_model': 'Model',\n",
    "    'universe_exclude_features': 'Excluded Features',\n",
    "    'universe_exclude_subgroups': 'Excluded Subgroups'\n",
    "}\n",
    "\n",
    "# Custom x-tick renaming\n",
    "category_renames = {\n",
    "    '2010_14': '2010-14',\n",
    "    '2012_14': '2012-14',\n",
    "    'scale': 'scaled',\n",
    "    'do-not-scale': 'not-scaled',\n",
    "    'drop-non-german': 'drop',\n",
    "    'penalized_logreg': 'pen. logreg',\n",
    "    'rf': 'rand. forest'\n",
    "}\n",
    "\n",
    "# Custom order per parameter\n",
    "custom_orders = {\n",
    "    'universe_training_size': ['1k', '5k', '25k'],\n",
    "    'universe_model': ['logreg', 'penalized_logreg', 'elasticnet', 'gbm', 'rf'],\n",
    "    'universe_exclude_features': ['none', 'age', 'nationality', 'sex', 'nationality-sex']\n",
    "}\n",
    "\n",
    "# Plot layout\n",
    "row1 = [\n",
    "    'universe_training_size',\n",
    "    'universe_training_year',\n",
    "    'universe_scale',\n",
    "    'universe_exclude_subgroups'\n",
    "]\n",
    "row2 = ['universe_model', 'universe_exclude_features']\n",
    "\n",
    "widths_row1 = [1.3, 1.3, 1.0, 1.0]\n",
    "widths_row2 = [2.0, 2.0] \n",
    "\n",
    "colors_row1 = ['#FFFF99', '#FDBF6F', '#FB9A99', '#CAB2D6']\n",
    "colors_row2 = ['aquamarine', 'lightskyblue'] \n",
    "\n",
    "# Styling\n",
    "sns.set(style=\"whitegrid\", palette=\"pastel\", font_scale=1.2)\n",
    "fig = plt.figure(figsize=(24, 15))\n",
    "outer_gs = gridspec.GridSpec(2, 1, height_ratios=[1, 1], hspace=0.5)\n",
    "\n",
    "# Font sizes\n",
    "axis_label_size = 24\n",
    "tick_label_size = 20\n",
    "category_label_size = 24\n",
    "\n",
    "# Row 1\n",
    "gs_row1 = gridspec.GridSpecFromSubplotSpec(\n",
    "    nrows=1, ncols=4, subplot_spec=outer_gs[0], width_ratios=widths_row1, wspace=0.3\n",
    ")\n",
    "\n",
    "for idx, param in enumerate(row1): \n",
    "    ax = fig.add_subplot(gs_row1[0, idx]) \n",
    "\n",
    "    order = custom_orders.get(param, sorted(df_agg[param].dropna().unique()))\n",
    "    sns.violinplot(\n",
    "        data=df_agg, x=param, y='avg_size', ax=ax,\n",
    "        inner='box', cut=0, order=order, color=colors_row1[idx]\n",
    "    )\n",
    "\n",
    "    # Overlay median dots\n",
    "    medians = df_agg.groupby(param)['avg_size'].median()\n",
    "    for i, cat in enumerate(order):\n",
    "        if cat in medians:\n",
    "            ax.plot(i, medians[cat], color='lemonchiffon', marker='o', markersize=8, zorder=3)\n",
    "\n",
    "    # Rename x-tick labels\n",
    "    xticks = [label.get_text() for label in ax.get_xticklabels()]\n",
    "    renamed = [category_renames.get(label, label) for label in xticks]\n",
    "    ax.set_xticklabels(renamed, fontsize=category_label_size, rotation=30)\n",
    "\n",
    "    ax.set_xlabel(label_map[param], fontsize=axis_label_size)\n",
    "    if idx == 0:\n",
    "        ax.set_ylabel('Avg. Prediction Set Size', fontsize=axis_label_size)\n",
    "    else:\n",
    "        ax.set_ylabel('')\n",
    "        ax.set_yticklabels([])\n",
    "        ax.tick_params(axis='y', left=False)\n",
    "    ax.tick_params(axis='y', labelsize=tick_label_size)\n",
    "    ax.set_title(\"\")\n",
    "\n",
    "# Row 2\n",
    "gs_row2 = gridspec.GridSpecFromSubplotSpec(\n",
    "    nrows=1, ncols=2, subplot_spec=outer_gs[1], width_ratios=widths_row2, wspace=0.1\n",
    ")\n",
    "for idx, param in enumerate(row2): \n",
    "    ax = fig.add_subplot(gs_row2[0, idx])  \n",
    "\n",
    "    order = custom_orders.get(param, sorted(df_agg[param].dropna().unique()))\n",
    "    sns.violinplot(\n",
    "        data=df_agg, x=param, y='avg_size', ax=ax,\n",
    "        inner='box', cut=0, order=order, color=colors_row2[idx]\n",
    "    )\n",
    "\n",
    "    # Overlay median dots\n",
    "    medians = df_agg.groupby(param)['avg_size'].median()\n",
    "    for i, cat in enumerate(order):\n",
    "        if cat in medians:\n",
    "            ax.plot(i, medians[cat], color='lemonchiffon', marker='o', markersize=8, zorder=3)\n",
    "\n",
    "    # Rename x-tick labels\n",
    "    xticks = [label.get_text() for label in ax.get_xticklabels()]\n",
    "    renamed = [category_renames.get(label, label) for label in xticks]\n",
    "    ax.set_xticklabels(renamed, fontsize=category_label_size, rotation=30)\n",
    "\n",
    "    ax.set_xlabel(label_map[param], fontsize=axis_label_size)\n",
    "    if idx == 0:\n",
    "        ax.set_ylabel('Avg. Prediction Set Size', fontsize=axis_label_size)\n",
    "    else:\n",
    "        ax.set_ylabel('')\n",
    "        ax.set_yticklabels([])\n",
    "        ax.tick_params(axis='y', left=False)\n",
    "    ax.tick_params(axis='y', labelsize=tick_label_size)\n",
    "    ax.set_title(\"\")\n",
    "\n",
    "output_path = CP_DIR / f\"violin_plots_{main_cp_metric}.png\"\n",
    "plt.savefig(output_path, dpi=300, bbox_inches='tight')\n",
    "\n",
    "plt.show()"
   ]
  },
  {
   "cell_type": "code",
   "execution_count": null,
   "metadata": {},
   "outputs": [],
   "source": []
  },
  {
   "cell_type": "code",
   "execution_count": null,
   "metadata": {},
   "outputs": [],
   "source": [
    "# 5 most important 2-way interactions\n",
    "best_p_margs = m_fanova.fanova.get_most_important_pairwise_marginals(n=5)\n",
    "print(best_p_margs)"
   ]
  },
  {
   "cell_type": "code",
   "execution_count": null,
   "metadata": {},
   "outputs": [],
   "source": [
    "from fanova import visualizer\n",
    "\n",
    "vis = visualizer.Visualizer(m_fanova.fanova, m_fanova.configuration_space, directory = str(CP_DIR))"
   ]
  },
  {
   "cell_type": "code",
   "execution_count": null,
   "metadata": {},
   "outputs": [],
   "source": [
    "# Plot 2D pairwise marginal\n",
    "vis.plot_pairwise_marginal(['universe_model', 'universe_scale'])"
   ]
  },
  {
   "cell_type": "code",
   "execution_count": null,
   "metadata": {},
   "outputs": [],
   "source": [
    "# Recover mapping\n",
    "col = \"universe_model\"\n",
    "original_labels = df_agg[col].unique()\n",
    "\n",
    "# Get corresponding numeric codes\n",
    "from sklearn.preprocessing import LabelEncoder\n",
    "le = LabelEncoder()\n",
    "codes = le.fit_transform(df_agg[col].values)\n",
    "label_map = dict(zip(le.transform(original_labels), original_labels))\n",
    "\n",
    "# Sort by code\n",
    "label_map = dict(sorted(label_map.items()))\n",
    "print(label_map)"
   ]
  },
  {
   "cell_type": "code",
   "execution_count": null,
   "metadata": {},
   "outputs": [],
   "source": [
    "# Heatmap avg. prediction set size\n",
    "\n",
    "vis.plot_pairwise_marginal(['universe_model', 'universe_training_size'])\n",
    "\n",
    "plt.xticks(\n",
    "    ticks=[0,1,2,3,4], \n",
    "    labels=['elasticnet', 'gbm', 'logreg', 'pen. logreg', 'rand. forest'], \n",
    "    rotation=45,\n",
    "    fontsize=16)\n",
    "\n",
    "plt.yticks(\n",
    "    ticks=[0,1,2], \n",
    "    labels=['1k', '25k', '5k'],\n",
    "    fontsize=16)\n",
    "\n",
    "cbar = plt.gcf().axes[-1] \n",
    "cbar.set_ylabel(\"Avg. Prediction Set Size\", rotation=90, labelpad=15, fontsize=20)\n",
    "cbar.tick_params(labelsize=16)\n",
    "\n",
    "plt.xlabel(\"Model\", fontsize=20)\n",
    "plt.ylabel(\"Training Size\", fontsize=20)\n",
    "\n",
    "ax = plt.gca()\n",
    "im = ax.get_images()[0] \n",
    "im.set_cmap(\"bwr\")\n",
    "\n",
    "plt.title(\"\")\n",
    "plt.tight_layout()\n",
    "\n",
    "output_path = CP_DIR / f\"heatmap_{main_cp_metric}.png\"  # or .jpg, .pdf, .svg\n",
    "plt.savefig(output_path, dpi=300, bbox_inches='tight')\n",
    "\n",
    "plt.show()"
   ]
  },
  {
   "cell_type": "code",
   "execution_count": null,
   "metadata": {},
   "outputs": [],
   "source": []
  },
  {
   "cell_type": "code",
   "execution_count": null,
   "metadata": {},
   "outputs": [],
   "source": [
    "m_fanova.fanova.marginal_mean_prediction({\"universe_model\": 0, \"universe_training_size\": 1})\n"
   ]
  },
  {
   "cell_type": "code",
   "execution_count": null,
   "metadata": {},
   "outputs": [],
   "source": []
  },
  {
   "cell_type": "markdown",
   "metadata": {},
   "source": [
    "# Visualizations Conditional Coverage"
   ]
  },
  {
   "cell_type": "code",
   "execution_count": null,
   "metadata": {},
   "outputs": [],
   "source": [
    "# Violin plots\n",
    "\n",
    "import matplotlib.pyplot as plt\n",
    "import seaborn as sns\n",
    "import matplotlib.gridspec as gridspec\n",
    "\n",
    "# Label mapping\n",
    "label_map = {\n",
    "    'universe_training_size': 'Training Size',\n",
    "    'universe_training_year': 'Training Year',\n",
    "    'universe_scale': 'Scaling',\n",
    "    'universe_model': 'Model',\n",
    "    'universe_exclude_features': 'Excluded Features',\n",
    "    'universe_exclude_subgroups': 'Excluded Subgroups'\n",
    "}\n",
    "\n",
    "# Custom x-tick renaming\n",
    "category_renames = {\n",
    "    '2010_14': '2010-14',\n",
    "    '2012_14': '2012-14',\n",
    "    'scale': 'scaled',\n",
    "    'do-not-scale': 'not-scaled',\n",
    "    'drop-non-german': 'drop',\n",
    "    'penalized_logreg': 'pen. logreg',\n",
    "    'rf': 'rand. forest'\n",
    "}\n",
    "\n",
    "# Custom order per parameter\n",
    "custom_orders = {\n",
    "    'universe_training_size': ['1k', '5k', '25k'],\n",
    "    'universe_model': ['logreg', 'penalized_logreg', 'elasticnet', 'gbm', 'rf'],\n",
    "    'universe_exclude_features': ['none', 'age', 'nationality', 'sex', 'nationality-sex']\n",
    "}\n",
    "\n",
    "# Plot layout\n",
    "row1 = [\n",
    "    'universe_training_size',\n",
    "    'universe_training_year',\n",
    "    'universe_scale',\n",
    "    'universe_exclude_subgroups'\n",
    "]\n",
    "row2 = ['universe_model', 'universe_exclude_features']\n",
    "\n",
    "widths_row1 = [1.3, 1.3, 1.0, 1.0]\n",
    "widths_row2 = [2.0, 2.0]\n",
    "\n",
    "colors_row1 = ['#FFFF99', '#FDBF6F', '#FB9A99', '#CAB2D6']\n",
    "colors_row2 = ['aquamarine', 'lightskyblue'] \n",
    "\n",
    "# Styling\n",
    "sns.set(style=\"whitegrid\", palette=\"pastel\", font_scale=1.2)\n",
    "fig = plt.figure(figsize=(24, 15))\n",
    "outer_gs = gridspec.GridSpec(2, 1, height_ratios=[1, 1], hspace=0.5)\n",
    "\n",
    "# Font sizes\n",
    "axis_label_size = 24\n",
    "tick_label_size = 20\n",
    "category_label_size = 24\n",
    "\n",
    "# Row 1\n",
    "gs_row1 = gridspec.GridSpecFromSubplotSpec(\n",
    "    nrows=1, ncols=4, subplot_spec=outer_gs[0], width_ratios=widths_row1, wspace=0.3\n",
    ")\n",
    "\n",
    "for idx, param in enumerate(row1): \n",
    "    ax = fig.add_subplot(gs_row1[0, idx]) \n",
    "\n",
    "    order = custom_orders.get(param, sorted(df_agg[param].dropna().unique()))\n",
    "    sns.violinplot(\n",
    "        data=df_agg, x=param, y='cov_nongerman_female', ax=ax,\n",
    "        inner='box', cut=0, order=order, color=colors_row1[idx]\n",
    "    )\n",
    "\n",
    "    # Overlay median dots\n",
    "    medians = df_agg.groupby(param)['cov_nongerman_female'].median()\n",
    "    for i, cat in enumerate(order):\n",
    "        if cat in medians:\n",
    "            ax.plot(i, medians[cat], color='lemonchiffon', marker='o', markersize=8, zorder=3)\n",
    "\n",
    "    # Rename x-tick labels\n",
    "    xticks = [label.get_text() for label in ax.get_xticklabels()]\n",
    "    renamed = [category_renames.get(label, label) for label in xticks]\n",
    "    ax.set_xticklabels(renamed, fontsize=category_label_size, rotation=30)\n",
    "\n",
    "    ax.set_xlabel(label_map[param], fontsize=axis_label_size)\n",
    "    if idx == 0:\n",
    "        ax.set_ylabel('Cov. Non-German Female', fontsize=axis_label_size)\n",
    "    else:\n",
    "        ax.set_ylabel('')\n",
    "        ax.set_yticklabels([])\n",
    "        ax.tick_params(axis='y', left=False)\n",
    "    ax.tick_params(axis='y', labelsize=tick_label_size)\n",
    "    ax.set_title(\"\")\n",
    "\n",
    "# Row 2\n",
    "gs_row2 = gridspec.GridSpecFromSubplotSpec(\n",
    "    nrows=1, ncols=2, subplot_spec=outer_gs[1], width_ratios=widths_row2, wspace=0.1\n",
    ")\n",
    "for idx, param in enumerate(row2): \n",
    "    ax = fig.add_subplot(gs_row2[0, idx])  \n",
    "\n",
    "    order = custom_orders.get(param, sorted(df_agg[param].dropna().unique()))\n",
    "    sns.violinplot(\n",
    "        data=df_agg, x=param, y='cov_nongerman_female', ax=ax,\n",
    "        inner='box', cut=0, order=order, color=colors_row2[idx]\n",
    "    )\n",
    "\n",
    "    # Overlay median dots\n",
    "    medians = df_agg.groupby(param)['cov_nongerman_female'].median()\n",
    "    for i, cat in enumerate(order):\n",
    "        if cat in medians:\n",
    "            ax.plot(i, medians[cat], color='lemonchiffon', marker='o', markersize=8, zorder=3)\n",
    "\n",
    "    # Rename x-tick labels\n",
    "    xticks = [label.get_text() for label in ax.get_xticklabels()]\n",
    "    renamed = [category_renames.get(label, label) for label in xticks]\n",
    "    ax.set_xticklabels(renamed, fontsize=category_label_size, rotation=30)\n",
    "\n",
    "    ax.set_xlabel(label_map[param], fontsize=axis_label_size)\n",
    "    if idx == 0:\n",
    "        ax.set_ylabel('Cov. Non-German Female', fontsize=axis_label_size)\n",
    "    else:\n",
    "        ax.set_ylabel('')\n",
    "        ax.set_yticklabels([])\n",
    "        ax.tick_params(axis='y', left=False)\n",
    "    ax.tick_params(axis='y', labelsize=tick_label_size)\n",
    "    ax.set_title(\"\")\n",
    "\n",
    "output_path = CP_DIR / f\"violin_plots_{main_cp_metric}.png\"\n",
    "plt.savefig(output_path, dpi=300, bbox_inches='tight')\n",
    "\n",
    "plt.show()"
   ]
  },
  {
   "cell_type": "code",
   "execution_count": null,
   "metadata": {},
   "outputs": [],
   "source": [
    "# Recover mapping\n",
    "col = \"universe_scale\"\n",
    "original_labels = df_agg[col].unique()\n",
    "\n",
    "# Get corresponding numeric codes\n",
    "from sklearn.preprocessing import LabelEncoder\n",
    "le = LabelEncoder()\n",
    "codes = le.fit_transform(df_agg[col].values)\n",
    "label_map = dict(zip(le.transform(original_labels), original_labels))\n",
    "\n",
    "# Sort by code\n",
    "label_map = dict(sorted(label_map.items()))\n",
    "print(label_map)"
   ]
  },
  {
   "cell_type": "code",
   "execution_count": null,
   "metadata": {},
   "outputs": [],
   "source": [
    "from fanova import visualizer\n",
    "\n",
    "vis = visualizer.Visualizer(m_fanova.fanova, m_fanova.configuration_space, directory = str(CP_DIR))"
   ]
  },
  {
   "cell_type": "code",
   "execution_count": null,
   "metadata": {},
   "outputs": [],
   "source": [
    "# Heatmap\n",
    "\n",
    "vis.plot_pairwise_marginal(['universe_model', 'universe_scale'])\n",
    "\n",
    "import matplotlib.collections as mcoll\n",
    "\n",
    "# ── remove the white cell borders ───────────────────────────────\n",
    "ax  = plt.gca()\n",
    "# the first artist in the axis is the QuadMesh produced by pcolormesh\n",
    "quad = next(obj for obj in ax.get_children() if isinstance(obj, mcoll.QuadMesh))\n",
    "quad.set_linewidth(0)          # no grid lines\n",
    "quad.set_edgecolor('face')     # edges take the same colour as the face\n",
    "# ────────────────────────────────────────────────────────────────\n",
    "\n",
    "plt.xticks(\n",
    "    ticks=[0,1,2,3,4], \n",
    "    labels=['elasticnet', 'gbm', 'logreg', 'pen. logreg', 'rand. forest'], \n",
    "    rotation=45,\n",
    "    fontsize=16)\n",
    "\n",
    "plt.yticks(\n",
    "    ticks=[0,1], \n",
    "    labels=['not-scaled', 'scaled'],\n",
    "    fontsize=16)\n",
    "\n",
    "cbar = plt.gcf().axes[-1] \n",
    "cbar.set_ylabel(\"Cov. Non-German Female\", rotation=90, labelpad=15, fontsize=20)\n",
    "cbar.tick_params(labelsize=16)\n",
    "\n",
    "plt.xlabel(\"Model\", fontsize=20)\n",
    "plt.ylabel(\"Scaling\", fontsize=20)\n",
    "\n",
    "ax = plt.gca()\n",
    "im = ax.get_images()[0] \n",
    "im.set_cmap(\"bwr\") #reverse so that undercoverage is red and overcoverage b+lue\n",
    "\n",
    "plt.title(\"\")\n",
    "plt.tight_layout()\n",
    "\n",
    "output_path = CP_DIR / f\"heatmap_{main_cp_metric}.png\"  # or .jpg, .pdf, .svg\n",
    "#plt.savefig(output_path, dpi=300, bbox_inches='tight')\n",
    "\n",
    "plt.show()"
   ]
  },
  {
   "cell_type": "code",
   "execution_count": null,
   "metadata": {},
   "outputs": [],
   "source": [
    "# Heatmap\n",
    "\n",
    "vis.plot_pairwise_marginal(['universe_scale', 'universe_model'])\n",
    "\n",
    "plt.yticks(\n",
    "    ticks=[0,1,2,3,4], \n",
    "    labels=['elasticnet', 'gbm', 'logreg', 'pen. logreg', 'rand. forest'], \n",
    "    fontsize=18)\n",
    "\n",
    "plt.xticks(\n",
    "    ticks=[0,1], \n",
    "    labels=['not-scaled', 'scaled'],\n",
    "    rotation=45,\n",
    "    fontsize=18)\n",
    "\n",
    "cbar = plt.gcf().axes[-1] \n",
    "cbar.set_ylabel(\"Cov. NG Female\", rotation=90, labelpad=15, fontsize=20)\n",
    "cbar.tick_params(labelsize=20)\n",
    "\n",
    "plt.xlabel(\"Model\", fontsize=20)\n",
    "plt.ylabel(\"Scaling\", fontsize=20)\n",
    "\n",
    "ax = plt.gca()\n",
    "im = ax.get_images()[0] \n",
    "im.set_cmap(\"bwr\") #reverse so that undercoverage is red and overcoverage blue ???\n",
    "\n",
    "\n",
    "plt.title(\"\")\n",
    "plt.tight_layout()\n",
    "\n",
    "output_path = CP_DIR / f\"heatmap_{main_cp_metric}.png\"\n",
    "#plt.savefig(output_path, dpi=300, bbox_inches='tight')\n",
    "\n",
    "plt.show()"
   ]
  },
  {
   "attachments": {},
   "cell_type": "markdown",
   "metadata": {},
   "source": [
    "## Quantify Importance with Partial Data"
   ]
  },
  {
   "cell_type": "code",
   "execution_count": null,
   "metadata": {},
   "outputs": [],
   "source": [
    "from tqdm import tqdm\n",
    "\n",
    "PARTIAL_FANOVA_DIR = ANALYSIS_OUTPUT_DIR / \"partial_fanova\" / \"overall\"\n",
    "PARTIAL_FANOVA_DIR.mkdir(parents=True, exist_ok=True)\n",
    "\n",
    "N_ITERATIONS = 10"
   ]
  },
  {
   "cell_type": "code",
   "execution_count": null,
   "metadata": {},
   "outputs": [],
   "source": [
    "from fairness_multiverse.analysis import MultiverseFanova\n",
    "import joblib\n",
    "\n",
    "def quantify_importance_for_fraction(fraction: float, base_directory = PARTIAL_FANOVA_DIR):\n",
    "    # Get random subset of the data\n",
    "    df = df_agg.sample(frac = fraction).reset_index(drop = True)\n",
    "    data_hash = joblib.hash(df)\n",
    "\n",
    "    # Create directory for this fraction\n",
    "    directory = base_directory / f\"fraction-{fraction}\"\n",
    "    directory.mkdir(exist_ok = True)\n",
    "\n",
    "    # Run FANOVA on subset\n",
    "    partial_fanova = MultiverseFanova(features = df[[\"universe_model\", \"universe_exclude_features\", \"universe_exclude_subgroups\"]], outcome = df[main_cp_metric])\n",
    "    partial_fanova.quantify_importance(save_to = directory / f\"partial-fanova_importance_interactions-majmin-{fraction}-{data_hash}.csv\")"
   ]
  },
  {
   "cell_type": "code",
   "execution_count": null,
   "metadata": {},
   "outputs": [],
   "source": [
    "for i in tqdm(range(N_ITERATIONS)):\n",
    "    quantify_importance_for_fraction(0.01)"
   ]
  },
  {
   "cell_type": "code",
   "execution_count": null,
   "metadata": {},
   "outputs": [],
   "source": [
    "for i in tqdm(range(N_ITERATIONS)):\n",
    "    quantify_importance_for_fraction(0.05)"
   ]
  },
  {
   "cell_type": "code",
   "execution_count": null,
   "metadata": {},
   "outputs": [],
   "source": [
    "for i in tqdm(range(N_ITERATIONS)):\n",
    "    quantify_importance_for_fraction(0.1)"
   ]
  },
  {
   "cell_type": "code",
   "execution_count": null,
   "metadata": {},
   "outputs": [],
   "source": [
    "for i in tqdm(range(N_ITERATIONS)):\n",
    "    quantify_importance_for_fraction(0.2)"
   ]
  },
  {
   "cell_type": "markdown",
   "metadata": {},
   "source": [
    "# Old Visualizations - To be deleted?"
   ]
  },
  {
   "cell_type": "code",
   "execution_count": null,
   "metadata": {},
   "outputs": [],
   "source": [
    "import matplotlib.pyplot as plt\n",
    "import seaborn as sns\n",
    "import pandas as pd\n",
    "\n",
    "# 1. Define your mapping and desired order (bottom to top)\n",
    "#label_map = {\n",
    "#    0: \"1k\",\n",
    "#    1: \"25k\",\n",
    "#    2: \"5k\"\n",
    "#}\n",
    "desired_order = [\"25k\", \"5k\", \"1k\"]  # bottom to top\n",
    "\n",
    "# 2. Prep data\n",
    "param = \"universe_training_size\"\n",
    "target = main_cp_metric\n",
    "df_plot = df_agg[[param, target]].copy()\n",
    "df_plot[param] = df_plot[param].map(lambda x: label_map.get(x, x))\n",
    "df_plot[param] = pd.Categorical(df_plot[param], categories=desired_order, ordered=True)\n",
    "\n",
    "# 3. Plot\n",
    "plt.figure(figsize=(6, 4))\n",
    "sns.violinplot(\n",
    "    data=df_plot,\n",
    "    y=param,\n",
    "    x=target,\n",
    "    order=desired_order,      # explicitly enforce order\n",
    "    palette=\"muted\",\n",
    "    scale=\"area\",\n",
    "    inner=\"point\",\n",
    "    linewidth=1\n",
    ")\n",
    "plt.xlabel(\"Average Prediction Set Size\")\n",
    "plt.ylabel(\"Training Size\")\n",
    "plt.tight_layout()\n",
    "plt.show()"
   ]
  },
  {
   "cell_type": "code",
   "execution_count": null,
   "metadata": {},
   "outputs": [],
   "source": [
    "# Subset the relevant columns\n",
    "param = \"universe_model\"\n",
    "df_plot = df_agg[[param, main_cp_metric]].copy()\n",
    "df_plot.columns = [\"Model\", \"Prediction\"]\n",
    "\n",
    "# Optional: Order models as you like (alphabetical or custom)\n",
    "order = sorted(df_plot[\"Model\"].unique())  # or provide manually\n",
    "plt.figure(figsize=(8, 4))\n",
    "sns.violinplot(data=df_plot, y=\"Model\", x=\"Prediction\", order=order,\n",
    "               palette=\"Set2\", inner=\"point\", linewidth=1)\n",
    "\n",
    "plt.xlabel(\"Average Prediction Set Size\")\n",
    "plt.ylabel(\"Model\")\n",
    "plt.tight_layout()\n",
    "plt.show()"
   ]
  }
 ],
 "metadata": {
  "kernelspec": {
   "display_name": "Python (CMA Fairness)",
   "language": "python",
   "name": "cma_fair_env"
  },
  "language_info": {
   "codemirror_mode": {
    "name": "ipython",
    "version": 3
   },
   "file_extension": ".py",
   "mimetype": "text/x-python",
   "name": "python",
   "nbconvert_exporter": "python",
   "pygments_lexer": "ipython3",
   "version": "3.10.12"
  }
 },
 "nbformat": 4,
 "nbformat_minor": 4
}
