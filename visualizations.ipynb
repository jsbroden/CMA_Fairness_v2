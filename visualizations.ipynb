{
 "cells": [
  {
   "cell_type": "markdown",
   "id": "c08c0cc0",
   "metadata": {},
   "source": [
    "# Setup"
   ]
  },
  {
   "cell_type": "code",
   "execution_count": null,
   "id": "801baabe",
   "metadata": {},
   "outputs": [],
   "source": [
    "%cd ~/cma/CMA_Fairness"
   ]
  },
  {
   "cell_type": "code",
   "execution_count": null,
   "id": "ecdfdb6f",
   "metadata": {},
   "outputs": [],
   "source": [
    "import os\n",
    "print(\"Current working directory:\", os.getcwd())"
   ]
  },
  {
   "cell_type": "code",
   "execution_count": null,
   "id": "2416d22e",
   "metadata": {},
   "outputs": [],
   "source": [
    "import pandas as pd\n",
    "import numpy as np\n",
    "import matplotlib.pyplot as plt\n",
    "from pathlib import Path"
   ]
  },
  {
   "cell_type": "code",
   "execution_count": null,
   "id": "50892893",
   "metadata": {},
   "outputs": [],
   "source": [
    "RUN_TO_ANALYSE = \"1\"\n",
    "CP_DIR = Path(\"output\") / \"runs\" / str(RUN_TO_ANALYSE)\n",
    "\n",
    "df = pd.read_csv(CP_DIR / \"combined_cp_metrics.csv\")"
   ]
  },
  {
   "cell_type": "code",
   "execution_count": null,
   "id": "f792b00a",
   "metadata": {},
   "outputs": [],
   "source": [
    "cols = ['coverage', 'cov_frau1', 'cov_nongerman', 'cov_nongerman_male', 'cov_nongerman_female']"
   ]
  },
  {
   "cell_type": "code",
   "execution_count": null,
   "id": "5502e37a",
   "metadata": {},
   "outputs": [],
   "source": [
    "df_sub = df[cols]"
   ]
  },
  {
   "cell_type": "code",
   "execution_count": null,
   "id": "6fa5b2b5",
   "metadata": {},
   "outputs": [],
   "source": [
    "df_sub"
   ]
  },
  {
   "cell_type": "code",
   "execution_count": null,
   "id": "57d45e24",
   "metadata": {},
   "outputs": [],
   "source": [
    "fig, ax = plt.subplots(figsize=(8, 6))\n",
    "\n",
    "# Positions for each box\n",
    "positions = np.arange(1, len(cols) + 1)\n",
    "\n",
    "# Draw the boxplots\n",
    "bp = ax.boxplot(\n",
    "    [df_sub[col] for col in cols],\n",
    "    positions=positions,\n",
    "    widths=0.6,\n",
    "    patch_artist=True,\n",
    "    notch=True\n",
    ")\n",
    "\n",
    "colors = [\"darkgray\", \"#CAB2D6\", \"lightskyblue\", \"aquamarine\", \"#FFFF99\",]\n",
    "\n",
    "# Style the boxes and medians\n",
    "for patch, median, color in zip(bp[\"boxes\"], bp[\"medians\"], colors):\n",
    "    patch.set_facecolor(color)\n",
    "    patch.set_edgecolor(\"black\")\n",
    "    patch.set_linewidth(1.5)\n",
    "    median.set_color(\"black\")\n",
    "    median.set_linewidth(2)\n",
    "\n",
    "# Style whiskers and caps\n",
    "for whisker in bp[\"whiskers\"]:\n",
    "    whisker.set_color(\"black\")\n",
    "    whisker.set_linewidth(1.5)\n",
    "for cap in bp[\"caps\"]:\n",
    "    cap.set_color(\"black\")\n",
    "    cap.set_linewidth(1.5)\n",
    "\n",
    "# Overlay the actual data points with a little horizontal jitter\n",
    "for i, col in enumerate(cols):\n",
    "    y = df_sub[col]\n",
    "    x = np.random.normal(positions[i], 0.04, size=len(y))\n",
    "    ax.scatter(\n",
    "        x,\n",
    "        y,\n",
    "        alpha=0.7,\n",
    "        color=colors[i],\n",
    "        edgecolors=\"black\",\n",
    "        linewidths=0.5,\n",
    "        s=40\n",
    "    )\n",
    "\n",
    "# Add a horizontal line at coverage = 0.90\n",
    "ax.axhline(y=0.90, color='red', linestyle='--', linewidth=1.5, label='Target coverage = 0.90')\n",
    "# Add a light grid\n",
    "ax.yaxis.grid(True, linestyle=\"--\", linewidth=0.7, alpha=0.7)\n",
    "\n",
    "new_labels = [\n",
    "    \"overall\",\n",
    "    \"female\",\n",
    "    \"non-german\",\n",
    "    \"non-german male\",\n",
    "    \"non-german female\"\n",
    "]\n",
    "ax.set_xticks(positions)\n",
    "ax.set_xticklabels(new_labels, rotation=30)\n",
    "\n",
    "ax.set_ylabel(\"Coverage\", fontsize=20)\n",
    "\n",
    "ax.tick_params(axis='x', labelsize=18)\n",
    "ax.tick_params(axis='y', labelsize=18)\n",
    "\n",
    "plt.tight_layout()\n",
    "\n",
    "output_path = CP_DIR / \"coverage_subgroups.png\"\n",
    "plt.savefig(output_path, dpi=300, bbox_inches='tight')\n",
    "\n",
    "plt.show()"
   ]
  },
  {
   "cell_type": "code",
   "execution_count": null,
   "id": "31a94af2",
   "metadata": {},
   "outputs": [],
   "source": [
    "# Plot histogram\n",
    "plt.figure(figsize=(7, 4))\n",
    "plt.hist(df[\"avg_size\"], bins=30, color='aquamarine', edgecolor='black')\n",
    "\n",
    "plt.tick_params(axis='both', which='major', labelsize=16)\n",
    "\n",
    "plt.gca().spines['top'].set_visible(False)\n",
    "plt.gca().spines['right'].set_visible(False)\n",
    "\n",
    "plt.xlabel(\"Average Prediction Set Size\", fontsize=18)\n",
    "plt.ylabel(\"Count\", fontsize=18)\n",
    "plt.grid(False)\n",
    "plt.tight_layout()\n",
    "\n",
    "output_path = CP_DIR / \"avg_size_distribution.png\"\n",
    "plt.savefig(output_path, dpi=300, bbox_inches='tight')\n",
    "\n",
    "plt.show()"
   ]
  },
  {
   "cell_type": "code",
   "execution_count": null,
   "id": "4b071760",
   "metadata": {},
   "outputs": [],
   "source": [
    "max_value = df[\"avg_size\"].max()\n",
    "min_value = df[\"avg_size\"].min()\n",
    "\n",
    "print(\"Max avg_size:\", max_value)\n",
    "print(\"Min avg_size:\", min_value)"
   ]
  },
  {
   "cell_type": "code",
   "execution_count": null,
   "id": "7441acda",
   "metadata": {},
   "outputs": [],
   "source": []
  }
 ],
 "metadata": {
  "kernelspec": {
   "display_name": "Python (CMA Fairness)",
   "language": "python",
   "name": "cma_fair_env"
  },
  "language_info": {
   "codemirror_mode": {
    "name": "ipython",
    "version": 3
   },
   "file_extension": ".py",
   "mimetype": "text/x-python",
   "name": "python",
   "nbconvert_exporter": "python",
   "pygments_lexer": "ipython3",
   "version": "3.10.12"
  }
 },
 "nbformat": 4,
 "nbformat_minor": 5
}
