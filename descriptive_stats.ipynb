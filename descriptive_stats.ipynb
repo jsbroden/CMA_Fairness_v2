{
 "cells": [
  {
   "cell_type": "markdown",
   "id": "96d3c2ff",
   "metadata": {},
   "source": [
    "## Setup"
   ]
  },
  {
   "cell_type": "code",
   "execution_count": null,
   "id": "312c57db",
   "metadata": {},
   "outputs": [],
   "source": [
    "%cd ~/cma/CMA_Fairness"
   ]
  },
  {
   "cell_type": "code",
   "execution_count": null,
   "id": "1eb577a2",
   "metadata": {},
   "outputs": [],
   "source": [
    "import os\n",
    "print(\"Current working directory:\", os.getcwd())"
   ]
  },
  {
   "cell_type": "code",
   "execution_count": null,
   "id": "e4a8cfd3",
   "metadata": {},
   "outputs": [],
   "source": [
    "import numpy as np\n",
    "import pandas as pd"
   ]
  },
  {
   "cell_type": "markdown",
   "id": "97aade4e",
   "metadata": {},
   "source": [
    "## 01 Data Checks"
   ]
  },
  {
   "cell_type": "code",
   "execution_count": null,
   "id": "2d3182ff",
   "metadata": {},
   "outputs": [],
   "source": [
    "siab = pd.read_csv(\"data/raw/siab.csv\")"
   ]
  },
  {
   "cell_type": "code",
   "execution_count": null,
   "id": "98c3aad5",
   "metadata": {},
   "outputs": [],
   "source": [
    "# Compute summary statistics\n",
    "siab.describe(include = 'all')"
   ]
  },
  {
   "cell_type": "code",
   "execution_count": null,
   "id": "1833fff5",
   "metadata": {},
   "outputs": [],
   "source": [
    "# Count number of missing values\n",
    "siab.isna().sum()"
   ]
  },
  {
   "cell_type": "code",
   "execution_count": null,
   "id": "ca0ee207",
   "metadata": {},
   "outputs": [],
   "source": [
    "grouped = siab.groupby('year')\n",
    "siab_s = grouped.apply(lambda x: x.sample(n = 5000, random_state = 42))\n",
    "siab_s = siab_s.reset_index(drop = True) # Ungroup"
   ]
  },
  {
   "cell_type": "code",
   "execution_count": null,
   "id": "e617ecc7",
   "metadata": {},
   "outputs": [],
   "source": [
    "siab_s.groupby('year').describe(include = 'all')"
   ]
  },
  {
   "cell_type": "markdown",
   "id": "f046e395",
   "metadata": {},
   "source": [
    "## 02 Descriptive Stats"
   ]
  },
  {
   "cell_type": "code",
   "execution_count": null,
   "id": "83db804e",
   "metadata": {},
   "outputs": [],
   "source": [
    "siab_t = siab"
   ]
  },
  {
   "cell_type": "code",
   "execution_count": null,
   "id": "b374e0f3",
   "metadata": {},
   "outputs": [],
   "source": [
    "siab_t['nongerman'] = np.where(siab_t['maxdeutsch1'] == 0, 1, 0) # creates new column 'nongerman', if maxdeutsch1 == 0 then nongerman = 1, else 0 \n",
    "siab_t.loc[siab_t['maxdeutsch.Missing.'] == 1, 'nongerman'] = np.nan # overwrite nongerman with NaN for any row where maxdeutsch.Missing. equals 1\n",
    "siab_t['nongerman_male'] = np.where((siab_t['nongerman'] == 1) & (siab_t['frau1'] == 0), 1, 0)\n",
    "siab_t['nongerman_female'] = np.where((siab_t['nongerman'] == 1) & (siab_t['frau1'] == 1), 1, 0)"
   ]
  },
  {
   "cell_type": "code",
   "execution_count": null,
   "id": "262f5b32",
   "metadata": {},
   "outputs": [],
   "source": [
    "desc1 = siab_t[['year', 'ltue']].groupby('year').mean()\n",
    "desc1.to_latex('./output/desc1.tex', float_format = \"%.3f\") # Mean LTUE over time"
   ]
  },
  {
   "cell_type": "code",
   "execution_count": null,
   "id": "c75a1a44",
   "metadata": {},
   "outputs": [],
   "source": [
    "desc2a = siab_t[['year', 'frau1', 'nongerman', 'nongerman_male', 'nongerman_female']].groupby(['year']).agg(['sum', 'count'])\n",
    "desc2b = siab_t[['year', 'frau1', 'nongerman', 'nongerman_male', 'nongerman_female']].groupby(['year']).mean()\n",
    "desc2c = siab_t[['year', 'ltue', 'frau1', 'nongerman', 'nongerman_male', 'nongerman_female']].groupby(['year', 'ltue']).agg(['mean', 'count'])"
   ]
  },
  {
   "cell_type": "code",
   "execution_count": null,
   "id": "c2a48678",
   "metadata": {},
   "outputs": [],
   "source": [
    "desc2a.to_latex('./output/desc2a.tex', float_format = \"%.3f\") # Number of cases over time\n",
    "desc2b.to_latex('./output/desc2b.tex', float_format = \"%.3f\") # Socio-demo over time\n",
    "desc2c.to_latex('./output/desc2c.tex', float_format = \"%.3f\") # Socio-demo by LTUE over time"
   ]
  }
 ],
 "metadata": {
  "kernelspec": {
   "display_name": "Python (CMA Fairness)",
   "language": "python",
   "name": "cma_fair_env"
  },
  "language_info": {
   "codemirror_mode": {
    "name": "ipython",
    "version": 3
   },
   "file_extension": ".py",
   "mimetype": "text/x-python",
   "name": "python",
   "nbconvert_exporter": "python",
   "pygments_lexer": "ipython3",
   "version": "3.10.12"
  }
 },
 "nbformat": 4,
 "nbformat_minor": 5
}
