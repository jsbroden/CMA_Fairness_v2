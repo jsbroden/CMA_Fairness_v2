{
 "cells": [
  {
   "cell_type": "code",
   "execution_count": 1,
   "id": "f9795d07",
   "metadata": {},
   "outputs": [
    {
     "name": "stdout",
     "output_type": "stream",
     "text": [
      "Python 3.8.18\n"
     ]
    }
   ],
   "source": [
    "!python --version\n"
   ]
  },
  {
   "cell_type": "code",
   "execution_count": 2,
   "id": "1a2bd7c8",
   "metadata": {},
   "outputs": [
    {
     "name": "stdout",
     "output_type": "stream",
     "text": [
      "Unexpected exception formatting exception. Falling back to standard exception\n"
     ]
    },
    {
     "name": "stderr",
     "output_type": "stream",
     "text": [
      "Traceback (most recent call last):\n",
      "  File \"/Users/julia/.local/share/virtualenvs/fairml-multiverse-emco0tgS/lib/python3.9/site-packages/IPython/core/interactiveshell.py\", line 3550, in run_code\n",
      "  File \"/var/folders/h7/6qcvyjh51cg86vrxn3xs8c_40000gn/T/ipykernel_61812/1446016755.py\", line 1, in <module>\n",
      "    from fanova import fANOVA\n",
      "ModuleNotFoundError: No module named 'fanova'\n",
      "\n",
      "During handling of the above exception, another exception occurred:\n",
      "\n",
      "Traceback (most recent call last):\n",
      "  File \"/Users/julia/.local/share/virtualenvs/fairml-multiverse-emco0tgS/lib/python3.9/site-packages/pygments/styles/__init__.py\", line 45, in get_style_by_name\n",
      "ModuleNotFoundError: No module named 'pygments.styles.default'\n",
      "\n",
      "During handling of the above exception, another exception occurred:\n",
      "\n",
      "Traceback (most recent call last):\n",
      "  File \"/Users/julia/.local/share/virtualenvs/fairml-multiverse-emco0tgS/lib/python3.9/site-packages/IPython/core/interactiveshell.py\", line 2144, in showtraceback\n",
      "  File \"/Users/julia/.local/share/virtualenvs/fairml-multiverse-emco0tgS/lib/python3.9/site-packages/IPython/core/ultratb.py\", line 1435, in structured_traceback\n",
      "  File \"/Users/julia/.local/share/virtualenvs/fairml-multiverse-emco0tgS/lib/python3.9/site-packages/IPython/core/ultratb.py\", line 1326, in structured_traceback\n",
      "  File \"/Users/julia/.local/share/virtualenvs/fairml-multiverse-emco0tgS/lib/python3.9/site-packages/IPython/core/ultratb.py\", line 1173, in structured_traceback\n",
      "  File \"/Users/julia/.local/share/virtualenvs/fairml-multiverse-emco0tgS/lib/python3.9/site-packages/IPython/core/ultratb.py\", line 1063, in format_exception_as_a_whole\n",
      "  File \"/Users/julia/.local/share/virtualenvs/fairml-multiverse-emco0tgS/lib/python3.9/site-packages/IPython/core/ultratb.py\", line 1114, in get_records\n",
      "  File \"/Users/julia/.local/share/virtualenvs/fairml-multiverse-emco0tgS/lib/python3.9/site-packages/pygments/styles/__init__.py\", line 47, in get_style_by_name\n",
      "pygments.util.ClassNotFound: Could not find style module 'pygments.styles.default', though it should be builtin.\n"
     ]
    }
   ],
   "source": [
    "from fanova import fANOVA"
   ]
  },
  {
   "cell_type": "code",
   "execution_count": 3,
   "id": "aacf718d",
   "metadata": {},
   "outputs": [],
   "source": [
    "import numpy as np\n",
    "X = np.array([[0, 0], [1, 1]])\n",
    "y = np.array([0.0, 1.0])"
   ]
  },
  {
   "cell_type": "code",
   "execution_count": 4,
   "id": "13d11608",
   "metadata": {},
   "outputs": [
    {
     "name": "stderr",
     "output_type": "stream",
     "text": [
      "WARNING:root:low level library expects X argument to be float\n"
     ]
    }
   ],
   "source": [
    "f = fANOVA(X, y)"
   ]
  },
  {
   "cell_type": "code",
   "execution_count": 5,
   "id": "24395b79",
   "metadata": {},
   "outputs": [
    {
     "ename": "AttributeError",
     "evalue": "'SwigPyObject' object has no attribute 'mean'",
     "output_type": "error",
     "traceback": [
      "\u001b[0;31m---------------------------------------------------------------------------\u001b[0m",
      "\u001b[0;31mAttributeError\u001b[0m                            Traceback (most recent call last)",
      "Cell \u001b[0;32mIn[5], line 1\u001b[0m\n\u001b[0;32m----> 1\u001b[0m \u001b[38;5;28mprint\u001b[39m(\u001b[43mf\u001b[49m\u001b[38;5;241;43m.\u001b[39;49m\u001b[43mquantify_importance\u001b[49m\u001b[43m(\u001b[49m\u001b[43m(\u001b[49m\u001b[38;5;241;43m0\u001b[39;49m\u001b[43m,\u001b[49m\u001b[43m)\u001b[49m\u001b[43m)\u001b[49m)\n",
      "File \u001b[0;32m~/.local/share/virtualenvs/fairml-multiverse-emco0tgS/lib/python3.9/site-packages/fanova/fanova.py:324\u001b[0m, in \u001b[0;36mfANOVA.quantify_importance\u001b[0;34m(self, dims)\u001b[0m\n\u001b[1;32m    320\u001b[0m \u001b[38;5;66;03m# make sure that all the V_U values are computed for each tree\u001b[39;00m\n\u001b[1;32m    321\u001b[0m \u001b[38;5;28;01melse\u001b[39;00m:\n\u001b[1;32m    322\u001b[0m     dimensions \u001b[38;5;241m=\u001b[39m dims\n\u001b[0;32m--> 324\u001b[0m \u001b[38;5;28;43mself\u001b[39;49m\u001b[38;5;241;43m.\u001b[39;49m\u001b[43m__compute_marginals\u001b[49m\u001b[43m(\u001b[49m\u001b[43mdimensions\u001b[49m\u001b[43m)\u001b[49m\n\u001b[1;32m    326\u001b[0m importance_dict \u001b[38;5;241m=\u001b[39m {}\n\u001b[1;32m    328\u001b[0m \u001b[38;5;28;01mfor\u001b[39;00m k \u001b[38;5;129;01min\u001b[39;00m \u001b[38;5;28mrange\u001b[39m(\u001b[38;5;241m1\u001b[39m, \u001b[38;5;28mlen\u001b[39m(dimensions) \u001b[38;5;241m+\u001b[39m \u001b[38;5;241m1\u001b[39m):\n",
      "File \u001b[0;32m~/.local/share/virtualenvs/fairml-multiverse-emco0tgS/lib/python3.9/site-packages/fanova/fanova.py:293\u001b[0m, in \u001b[0;36mfANOVA.__compute_marginals\u001b[0;34m(self, dimensions)\u001b[0m\n\u001b[1;32m    291\u001b[0m     ls \u001b[38;5;241m=\u001b[39m \u001b[38;5;28mself\u001b[39m\u001b[38;5;241m.\u001b[39mthe_forest\u001b[38;5;241m.\u001b[39mmarginal_prediction_stat_of_tree(tree_idx, sample\u001b[38;5;241m.\u001b[39mtolist())\n\u001b[1;32m    292\u001b[0m     \u001b[38;5;66;03m# self.logger.debug(\"%s, %s\", (sample, ls.mean()))\u001b[39;00m\n\u001b[0;32m--> 293\u001b[0m     \u001b[38;5;28;01mif\u001b[39;00m \u001b[38;5;129;01mnot\u001b[39;00m np\u001b[38;5;241m.\u001b[39misnan(\u001b[43mls\u001b[49m\u001b[38;5;241;43m.\u001b[39;49m\u001b[43mmean\u001b[49m()):\n\u001b[1;32m    294\u001b[0m         stat\u001b[38;5;241m.\u001b[39mpush(ls\u001b[38;5;241m.\u001b[39mmean(), np\u001b[38;5;241m.\u001b[39mprod(np\u001b[38;5;241m.\u001b[39marray(s)) \u001b[38;5;241m*\u001b[39m ls\u001b[38;5;241m.\u001b[39msum_of_weights())\n\u001b[1;32m    296\u001b[0m \u001b[38;5;66;03m# line 10 in algorithm 2\u001b[39;00m\n\u001b[1;32m    297\u001b[0m \u001b[38;5;66;03m# note that V_U^2 can be computed by var(\\hat a)^2 - \\sum_{subU} var(f_subU)^2\u001b[39;00m\n\u001b[1;32m    298\u001b[0m \u001b[38;5;66;03m# which is why, \\hat{f} is never computed in the code, but\u001b[39;00m\n\u001b[1;32m    299\u001b[0m \u001b[38;5;66;03m# appears in the pseudocode\u001b[39;00m\n",
      "\u001b[0;31mAttributeError\u001b[0m: 'SwigPyObject' object has no attribute 'mean'"
     ]
    }
   ],
   "source": [
    "print(f.quantify_importance((0,)))"
   ]
  }
 ],
 "metadata": {
  "kernelspec": {
   "display_name": "fairml-multiverse-emco0tgS",
   "language": "python",
   "name": "python3"
  },
  "language_info": {
   "codemirror_mode": {
    "name": "ipython",
    "version": 3
   },
   "file_extension": ".py",
   "mimetype": "text/x-python",
   "name": "python",
   "nbconvert_exporter": "python",
   "pygments_lexer": "ipython3",
   "version": "3.9.23"
  }
 },
 "nbformat": 4,
 "nbformat_minor": 5
}
