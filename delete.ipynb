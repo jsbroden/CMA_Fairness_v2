{
 "cells": [
  {
   "cell_type": "code",
   "execution_count": null,
   "id": "1a2bd7c8",
   "metadata": {},
   "outputs": [
    {
     "ename": "",
     "evalue": "",
     "output_type": "error",
     "traceback": [
      "\u001b[1;31mThe kernel failed to start due to the missing module 'IPython'. Consider installing this module.\n",
      "\u001b[1;31mClick <a href='https://aka.ms/kernelFailuresMissingModule'>here</a> for more info."
     ]
    }
   ],
   "source": [
    "from fanova import fANOVA"
   ]
  },
  {
   "cell_type": "code",
   "execution_count": null,
   "id": "aacf718d",
   "metadata": {},
   "outputs": [],
   "source": [
    "import numpy as np\n",
    "X = np.array([[0, 0], [1, 1]])\n",
    "y = np.array([0.0, 1.0])"
   ]
  },
  {
   "cell_type": "code",
   "execution_count": null,
   "id": "13d11608",
   "metadata": {},
   "outputs": [],
   "source": [
    "f = fANOVA(X, y)"
   ]
  },
  {
   "cell_type": "code",
   "execution_count": null,
   "id": "24395b79",
   "metadata": {},
   "outputs": [],
   "source": [
    "print(f.quantify_importance((0,)))"
   ]
  }
 ],
 "metadata": {
  "kernelspec": {
   "display_name": "fairml-multiverse-emco0tgS",
   "language": "python",
   "name": "python3"
  },
  "language_info": {
   "codemirror_mode": {
    "name": "ipython",
    "version": 3
   },
   "file_extension": ".py",
   "mimetype": "text/x-python",
   "name": "python",
   "nbconvert_exporter": "python",
   "pygments_lexer": "ipython3",
   "version": "3.10.15"
  }
 },
 "nbformat": 4,
 "nbformat_minor": 5
}
