{
 "cells": [
  {
   "cell_type": "code",
   "execution_count": 1,
   "id": "f9795d07",
   "metadata": {},
   "outputs": [
    {
     "name": "stdout",
     "output_type": "stream",
     "text": [
      "Python 3.10.12\n"
     ]
    }
   ],
   "source": [
    "!python --version\n"
   ]
  },
  {
   "cell_type": "code",
   "execution_count": null,
   "id": "eb666849-bb83-4aff-956b-6a222d9d0af4",
   "metadata": {},
   "outputs": [],
   "source": [
    "!pip install fanova"
   ]
  },
  {
   "cell_type": "code",
   "execution_count": 2,
   "id": "40b0dd04-b73b-4d2f-938e-ce0cec6420e0",
   "metadata": {},
   "outputs": [],
   "source": [
    "import numpy as np\n",
    "np.float = float  # Patch deprecated np.float"
   ]
  },
  {
   "cell_type": "code",
   "execution_count": 3,
   "id": "1a2bd7c8",
   "metadata": {},
   "outputs": [],
   "source": [
    "from fanova import fANOVA"
   ]
  },
  {
   "cell_type": "code",
   "execution_count": 4,
   "id": "aacf718d",
   "metadata": {},
   "outputs": [],
   "source": [
    "import numpy as np\n",
    "X = np.array([[0, 0], [1, 1]])\n",
    "y = np.array([0.0, 1.0])"
   ]
  },
  {
   "cell_type": "code",
   "execution_count": 5,
   "id": "13d11608",
   "metadata": {},
   "outputs": [
    {
     "name": "stderr",
     "output_type": "stream",
     "text": [
      "WARNING:root:low level library expects X argument to be float\n"
     ]
    }
   ],
   "source": [
    "f = fANOVA(X, y)"
   ]
  },
  {
   "cell_type": "code",
   "execution_count": 6,
   "id": "24395b79",
   "metadata": {},
   "outputs": [
    {
     "name": "stdout",
     "output_type": "stream",
     "text": [
      "{(0,): {'individual importance': 0.2857142857142857, 'total importance': 0.2857142857142857, 'individual std': 0.45175395145262565, 'total std': 0.45175395145262565}}\n"
     ]
    }
   ],
   "source": [
    "print(f.quantify_importance((0,)))"
   ]
  },
  {
   "cell_type": "code",
   "execution_count": null,
   "id": "f6d23a8d-cac5-42f8-ab21-9f81bc0de772",
   "metadata": {},
   "outputs": [],
   "source": []
  }
 ],
 "metadata": {
  "kernelspec": {
   "display_name": "Python 3 (ipykernel)",
   "language": "python",
   "name": "python3"
  },
  "language_info": {
   "codemirror_mode": {
    "name": "ipython",
    "version": 3
   },
   "file_extension": ".py",
   "mimetype": "text/x-python",
   "name": "python",
   "nbconvert_exporter": "python",
   "pygments_lexer": "ipython3",
   "version": "3.10.12"
  }
 },
 "nbformat": 4,
 "nbformat_minor": 5
}
