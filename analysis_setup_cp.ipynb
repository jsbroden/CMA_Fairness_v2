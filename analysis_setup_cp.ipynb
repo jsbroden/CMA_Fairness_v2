{
 "cells": [
  {
   "cell_type": "code",
   "execution_count": 1,
   "metadata": {},
   "outputs": [
    {
     "name": "stdout",
     "output_type": "stream",
     "text": [
      "/dss/dsshome1/0C/ra93lal2/cma/CMA_Fairness_v2\n"
     ]
    },
    {
     "name": "stderr",
     "output_type": "stream",
     "text": [
      "/dss/dsshome1/0C/ra93lal2/.local/share/virtualenvs/CMA_Fairness_v2-3j10GkSs/lib/python3.10/site-packages/IPython/core/magics/osm.py:393: UserWarning: This is now an optional IPython functionality, using bookmarks requires you to install the `pickleshare` library.\n",
      "  bkms = self.shell.db.get('bookmarks', {})\n",
      "/dss/dsshome1/0C/ra93lal2/.local/share/virtualenvs/CMA_Fairness_v2-3j10GkSs/lib/python3.10/site-packages/IPython/core/magics/osm.py:417: UserWarning: This is now an optional IPython functionality, setting dhist requires you to install the `pickleshare` library.\n",
      "  self.shell.db['dhist'] = compress_dhist(dhist)[-100:]\n"
     ]
    }
   ],
   "source": [
    "# When working in AI LRZ\n",
    "%cd ~/cma/CMA_Fairness_v2"
   ]
  },
  {
   "cell_type": "code",
   "execution_count": 2,
   "metadata": {},
   "outputs": [],
   "source": [
    "import pandas as pd"
   ]
  },
  {
   "attachments": {},
   "cell_type": "markdown",
   "metadata": {},
   "source": [
    "# Configuration"
   ]
  },
  {
   "cell_type": "code",
   "execution_count": 3,
   "metadata": {},
   "outputs": [],
   "source": [
    "# Auto-reload the custom package\n",
    "%load_ext autoreload\n",
    "%autoreload 1\n",
    "%aimport fairness_multiverse\n"
   ]
  },
  {
   "cell_type": "code",
   "execution_count": 4,
   "metadata": {},
   "outputs": [],
   "source": [
    "from pathlib import Path\n",
    "\n",
    "DATA_DIR = Path(\".\") / \"results/cp_metrics\""
   ]
  },
  {
   "cell_type": "code",
   "execution_count": 5,
   "metadata": {},
   "outputs": [],
   "source": [
    "main_cp_metric = \"avg_size\""
   ]
  },
  {
   "attachments": {},
   "cell_type": "markdown",
   "metadata": {},
   "source": [
    "## Data Loading"
   ]
  },
  {
   "cell_type": "code",
   "execution_count": 7,
   "metadata": {},
   "outputs": [],
   "source": [
    "# Load all CSV files into a list of dataframes\n",
    "csv_files = list(DATA_DIR.glob(\"*.csv\"))\n",
    "frames = [pd.read_csv(file) for file in csv_files]"
   ]
  },
  {
   "cell_type": "code",
   "execution_count": 8,
   "metadata": {},
   "outputs": [],
   "source": [
    "# Combine them into one DataFrame\n",
    "df = pd.concat(frames, ignore_index=True)"
   ]
  },
  {
   "cell_type": "code",
   "execution_count": 9,
   "metadata": {},
   "outputs": [],
   "source": [
    "df.to_csv(DATA_DIR / \"combined_cp_metrics.csv\", index=False)"
   ]
  },
  {
   "cell_type": "code",
   "execution_count": 10,
   "metadata": {},
   "outputs": [
    {
     "data": {
      "text/html": [
       "<div>\n",
       "<style scoped>\n",
       "    .dataframe tbody tr th:only-of-type {\n",
       "        vertical-align: middle;\n",
       "    }\n",
       "\n",
       "    .dataframe tbody tr th {\n",
       "        vertical-align: top;\n",
       "    }\n",
       "\n",
       "    .dataframe thead th {\n",
       "        text-align: right;\n",
       "    }\n",
       "</style>\n",
       "<table border=\"1\" class=\"dataframe\">\n",
       "  <thead>\n",
       "    <tr style=\"text-align: right;\">\n",
       "      <th></th>\n",
       "      <th>universe_id</th>\n",
       "      <th>q_hat</th>\n",
       "      <th>coverage</th>\n",
       "      <th>avg_size</th>\n",
       "    </tr>\n",
       "  </thead>\n",
       "  <tbody>\n",
       "    <tr>\n",
       "      <th>0</th>\n",
       "      <td>ff781731dcdee78c262ffadb63156903</td>\n",
       "      <td>0.675691</td>\n",
       "      <td>0.911626</td>\n",
       "      <td>1.199955</td>\n",
       "    </tr>\n",
       "    <tr>\n",
       "      <th>1</th>\n",
       "      <td>d68204b406b3db0bba5ef9dfec05f208</td>\n",
       "      <td>0.675691</td>\n",
       "      <td>0.911626</td>\n",
       "      <td>1.199955</td>\n",
       "    </tr>\n",
       "    <tr>\n",
       "      <th>2</th>\n",
       "      <td>41371f7240f084e92e79a21cc3dc2e21</td>\n",
       "      <td>0.667985</td>\n",
       "      <td>0.910946</td>\n",
       "      <td>1.209118</td>\n",
       "    </tr>\n",
       "    <tr>\n",
       "      <th>3</th>\n",
       "      <td>f4aa7f1a938cc9245663d6b4d0596022</td>\n",
       "      <td>0.664399</td>\n",
       "      <td>0.912095</td>\n",
       "      <td>1.117178</td>\n",
       "    </tr>\n",
       "    <tr>\n",
       "      <th>4</th>\n",
       "      <td>aeda81ea848062c8b09ab80466cf07c3</td>\n",
       "      <td>0.673419</td>\n",
       "      <td>0.911002</td>\n",
       "      <td>1.212451</td>\n",
       "    </tr>\n",
       "  </tbody>\n",
       "</table>\n",
       "</div>"
      ],
      "text/plain": [
       "                        universe_id     q_hat  coverage  avg_size\n",
       "0  ff781731dcdee78c262ffadb63156903  0.675691  0.911626  1.199955\n",
       "1  d68204b406b3db0bba5ef9dfec05f208  0.675691  0.911626  1.199955\n",
       "2  41371f7240f084e92e79a21cc3dc2e21  0.667985  0.910946  1.209118\n",
       "3  f4aa7f1a938cc9245663d6b4d0596022  0.664399  0.912095  1.117178\n",
       "4  aeda81ea848062c8b09ab80466cf07c3  0.673419  0.911002  1.212451"
      ]
     },
     "execution_count": 10,
     "metadata": {},
     "output_type": "execute_result"
    }
   ],
   "source": [
    "df.head()"
   ]
  },
  {
   "cell_type": "code",
   "execution_count": 16,
   "metadata": {},
   "outputs": [
    {
     "data": {
      "text/html": [
       "<div>\n",
       "<style scoped>\n",
       "    .dataframe tbody tr th:only-of-type {\n",
       "        vertical-align: middle;\n",
       "    }\n",
       "\n",
       "    .dataframe tbody tr th {\n",
       "        vertical-align: top;\n",
       "    }\n",
       "\n",
       "    .dataframe thead th {\n",
       "        text-align: right;\n",
       "    }\n",
       "</style>\n",
       "<table border=\"1\" class=\"dataframe\">\n",
       "  <thead>\n",
       "    <tr style=\"text-align: right;\">\n",
       "      <th></th>\n",
       "      <th>sett_cutoff</th>\n",
       "      <th>sett_eval_fairness_grouping</th>\n",
       "      <th>sett_exclude_features</th>\n",
       "      <th>sett_exclude_subgroups</th>\n",
       "      <th>sett_model</th>\n",
       "      <th>Unnamed: 0</th>\n",
       "      <th>run_no</th>\n",
       "      <th>universe_id</th>\n",
       "      <th>universe_settings</th>\n",
       "      <th>execution_time</th>\n",
       "      <th>...</th>\n",
       "      <th>perf_grp_precision_0</th>\n",
       "      <th>perf_grp_precision_1</th>\n",
       "      <th>perf_grp_false positive rate_0</th>\n",
       "      <th>perf_grp_false positive rate_1</th>\n",
       "      <th>perf_grp_false negative rate_0</th>\n",
       "      <th>perf_grp_false negative rate_1</th>\n",
       "      <th>perf_grp_selection rate_0</th>\n",
       "      <th>perf_grp_selection rate_1</th>\n",
       "      <th>perf_grp_count_0</th>\n",
       "      <th>perf_grp_count_1</th>\n",
       "    </tr>\n",
       "  </thead>\n",
       "  <tbody>\n",
       "    <tr>\n",
       "      <th>0</th>\n",
       "      <td>quantile_0.1</td>\n",
       "      <td>majority-minority</td>\n",
       "      <td>sex</td>\n",
       "      <td>keep-all</td>\n",
       "      <td>gbm</td>\n",
       "      <td>0</td>\n",
       "      <td>8</td>\n",
       "      <td>d666e2b26ad834a3a31caefc780fa30b</td>\n",
       "      <td>{\"cutoff\": \"quantile_0.1\", \"eval_fairness_grou...</td>\n",
       "      <td>50.738868</td>\n",
       "      <td>...</td>\n",
       "      <td>NaN</td>\n",
       "      <td>NaN</td>\n",
       "      <td>NaN</td>\n",
       "      <td>NaN</td>\n",
       "      <td>NaN</td>\n",
       "      <td>NaN</td>\n",
       "      <td>NaN</td>\n",
       "      <td>NaN</td>\n",
       "      <td>NaN</td>\n",
       "      <td>NaN</td>\n",
       "    </tr>\n",
       "    <tr>\n",
       "      <th>1</th>\n",
       "      <td>quantile_0.1</td>\n",
       "      <td>nationality-all</td>\n",
       "      <td>sex</td>\n",
       "      <td>keep-all</td>\n",
       "      <td>gbm</td>\n",
       "      <td>1</td>\n",
       "      <td>8</td>\n",
       "      <td>d666e2b26ad834a3a31caefc780fa30b</td>\n",
       "      <td>{\"cutoff\": \"quantile_0.1\", \"eval_fairness_grou...</td>\n",
       "      <td>50.738868</td>\n",
       "      <td>...</td>\n",
       "      <td>0.119908</td>\n",
       "      <td>0.14770</td>\n",
       "      <td>0.949978</td>\n",
       "      <td>0.867833</td>\n",
       "      <td>0.006757</td>\n",
       "      <td>0.012254</td>\n",
       "      <td>0.954966</td>\n",
       "      <td>0.883678</td>\n",
       "      <td>20540.0</td>\n",
       "      <td>69170.0</td>\n",
       "    </tr>\n",
       "    <tr>\n",
       "      <th>2</th>\n",
       "      <td>quantile_0.25</td>\n",
       "      <td>majority-minority</td>\n",
       "      <td>sex</td>\n",
       "      <td>keep-all</td>\n",
       "      <td>gbm</td>\n",
       "      <td>2</td>\n",
       "      <td>8</td>\n",
       "      <td>d666e2b26ad834a3a31caefc780fa30b</td>\n",
       "      <td>{\"cutoff\": \"quantile_0.25\", \"eval_fairness_gro...</td>\n",
       "      <td>50.738868</td>\n",
       "      <td>...</td>\n",
       "      <td>NaN</td>\n",
       "      <td>NaN</td>\n",
       "      <td>NaN</td>\n",
       "      <td>NaN</td>\n",
       "      <td>NaN</td>\n",
       "      <td>NaN</td>\n",
       "      <td>NaN</td>\n",
       "      <td>NaN</td>\n",
       "      <td>NaN</td>\n",
       "      <td>NaN</td>\n",
       "    </tr>\n",
       "    <tr>\n",
       "      <th>3</th>\n",
       "      <td>quantile_0.25</td>\n",
       "      <td>nationality-all</td>\n",
       "      <td>sex</td>\n",
       "      <td>keep-all</td>\n",
       "      <td>gbm</td>\n",
       "      <td>3</td>\n",
       "      <td>8</td>\n",
       "      <td>d666e2b26ad834a3a31caefc780fa30b</td>\n",
       "      <td>{\"cutoff\": \"quantile_0.25\", \"eval_fairness_gro...</td>\n",
       "      <td>50.738868</td>\n",
       "      <td>...</td>\n",
       "      <td>0.134721</td>\n",
       "      <td>0.17183</td>\n",
       "      <td>0.789236</td>\n",
       "      <td>0.699550</td>\n",
       "      <td>0.057010</td>\n",
       "      <td>0.046718</td>\n",
       "      <td>0.806962</td>\n",
       "      <td>0.733078</td>\n",
       "      <td>20540.0</td>\n",
       "      <td>69170.0</td>\n",
       "    </tr>\n",
       "    <tr>\n",
       "      <th>4</th>\n",
       "      <td>quantile_0.1</td>\n",
       "      <td>majority-minority</td>\n",
       "      <td>sex</td>\n",
       "      <td>drop-non-german</td>\n",
       "      <td>logreg</td>\n",
       "      <td>4</td>\n",
       "      <td>8</td>\n",
       "      <td>aeda81ea848062c8b09ab80466cf07c3</td>\n",
       "      <td>{\"cutoff\": \"quantile_0.1\", \"eval_fairness_grou...</td>\n",
       "      <td>22.508544</td>\n",
       "      <td>...</td>\n",
       "      <td>NaN</td>\n",
       "      <td>NaN</td>\n",
       "      <td>NaN</td>\n",
       "      <td>NaN</td>\n",
       "      <td>NaN</td>\n",
       "      <td>NaN</td>\n",
       "      <td>NaN</td>\n",
       "      <td>NaN</td>\n",
       "      <td>NaN</td>\n",
       "      <td>NaN</td>\n",
       "    </tr>\n",
       "  </tbody>\n",
       "</table>\n",
       "<p>5 rows × 56 columns</p>\n",
       "</div>"
      ],
      "text/plain": [
       "     sett_cutoff sett_eval_fairness_grouping sett_exclude_features  \\\n",
       "0   quantile_0.1           majority-minority                   sex   \n",
       "1   quantile_0.1             nationality-all                   sex   \n",
       "2  quantile_0.25           majority-minority                   sex   \n",
       "3  quantile_0.25             nationality-all                   sex   \n",
       "4   quantile_0.1           majority-minority                   sex   \n",
       "\n",
       "  sett_exclude_subgroups sett_model  Unnamed: 0  run_no  \\\n",
       "0               keep-all        gbm           0       8   \n",
       "1               keep-all        gbm           1       8   \n",
       "2               keep-all        gbm           2       8   \n",
       "3               keep-all        gbm           3       8   \n",
       "4        drop-non-german     logreg           4       8   \n",
       "\n",
       "                        universe_id  \\\n",
       "0  d666e2b26ad834a3a31caefc780fa30b   \n",
       "1  d666e2b26ad834a3a31caefc780fa30b   \n",
       "2  d666e2b26ad834a3a31caefc780fa30b   \n",
       "3  d666e2b26ad834a3a31caefc780fa30b   \n",
       "4  aeda81ea848062c8b09ab80466cf07c3   \n",
       "\n",
       "                                   universe_settings  execution_time  ...  \\\n",
       "0  {\"cutoff\": \"quantile_0.1\", \"eval_fairness_grou...       50.738868  ...   \n",
       "1  {\"cutoff\": \"quantile_0.1\", \"eval_fairness_grou...       50.738868  ...   \n",
       "2  {\"cutoff\": \"quantile_0.25\", \"eval_fairness_gro...       50.738868  ...   \n",
       "3  {\"cutoff\": \"quantile_0.25\", \"eval_fairness_gro...       50.738868  ...   \n",
       "4  {\"cutoff\": \"quantile_0.1\", \"eval_fairness_grou...       22.508544  ...   \n",
       "\n",
       "   perf_grp_precision_0  perf_grp_precision_1  perf_grp_false positive rate_0  \\\n",
       "0                   NaN                   NaN                             NaN   \n",
       "1              0.119908               0.14770                        0.949978   \n",
       "2                   NaN                   NaN                             NaN   \n",
       "3              0.134721               0.17183                        0.789236   \n",
       "4                   NaN                   NaN                             NaN   \n",
       "\n",
       "   perf_grp_false positive rate_1  perf_grp_false negative rate_0  \\\n",
       "0                             NaN                             NaN   \n",
       "1                        0.867833                        0.006757   \n",
       "2                             NaN                             NaN   \n",
       "3                        0.699550                        0.057010   \n",
       "4                             NaN                             NaN   \n",
       "\n",
       "   perf_grp_false negative rate_1  perf_grp_selection rate_0  \\\n",
       "0                             NaN                        NaN   \n",
       "1                        0.012254                   0.954966   \n",
       "2                             NaN                        NaN   \n",
       "3                        0.046718                   0.806962   \n",
       "4                             NaN                        NaN   \n",
       "\n",
       "   perf_grp_selection rate_1  perf_grp_count_0  perf_grp_count_1  \n",
       "0                        NaN               NaN               NaN  \n",
       "1                   0.883678           20540.0           69170.0  \n",
       "2                        NaN               NaN               NaN  \n",
       "3                   0.733078           20540.0           69170.0  \n",
       "4                        NaN               NaN               NaN  \n",
       "\n",
       "[5 rows x 56 columns]"
      ]
     },
     "execution_count": 16,
     "metadata": {},
     "output_type": "execute_result"
    }
   ],
   "source": [
    "#import json\n",
    "#\n",
    "#df_settings = pd.json_normalize(\n",
    "#    df_agg_raw[\"universe_settings\"].apply(json.loads)\n",
    "#).add_prefix(\n",
    "#    PREFIX_SETTINGS\n",
    "#)\n",
    "#\n",
    "#df_agg_full = df_settings.join(df_agg_raw)\n",
    "#df_agg_full.head()"
   ]
  },
  {
   "cell_type": "code",
   "execution_count": 11,
   "metadata": {},
   "outputs": [
    {
     "name": "stdout",
     "output_type": "stream",
     "text": [
      "The data has N = 40 rows and N = 4 columns.\n"
     ]
    }
   ],
   "source": [
    "rows, columns = df.shape\n",
    "print(f\"The data has N = {rows} rows and N = {columns} columns.\")"
   ]
  },
  {
   "cell_type": "code",
   "execution_count": 18,
   "metadata": {},
   "outputs": [],
   "source": [
    "#cols_settings = list(df_agg_full.columns[df_agg_full.columns.str.startswith(PREFIX_SETTINGS)])\n",
    "#cols_eval = list(df_agg_full.columns[df_agg_full.columns.str.startswith(PREFIX_EVAL)])\n",
    "#cols_non_eval = list(set(cols_settings) - set(cols_eval))\n",
    "#cols_performance = list(df_agg_full.columns[df_agg_full.columns.str.startswith(PREFIX_PERFORMANCE)])\n",
    "#cols_fairness = list(df_agg_full.columns[df_agg_full.columns.str.startswith(PREFIX_FAIRNESS)])\n"
   ]
  },
  {
   "cell_type": "code",
   "execution_count": 12,
   "metadata": {},
   "outputs": [
    {
     "data": {
      "text/plain": [
       "0     ff781731dcdee78c262ffadb63156903\n",
       "1     d68204b406b3db0bba5ef9dfec05f208\n",
       "2     41371f7240f084e92e79a21cc3dc2e21\n",
       "3     f4aa7f1a938cc9245663d6b4d0596022\n",
       "4     aeda81ea848062c8b09ab80466cf07c3\n",
       "5     37cb643ae0e5b9b35a6d97f8a210c57b\n",
       "6     a1534888820cbfa843f49d2b4ef2514e\n",
       "7     1485d41cc20949b2d1406cdcf750dbda\n",
       "8     04a5873dee9dbd78c41d68119fadece0\n",
       "9     ac61dc4975b4c6e37c44b92d00e83325\n",
       "10    ecc217051ed97339dd01598751d6478c\n",
       "11    418d84cd0641196cf291bbbd3833bfcd\n",
       "12    ffcd4f6171bad9a7f64bfbb74787f9df\n",
       "13    e75ce59377fbc92b60669778f4c1fa95\n",
       "14    12a5fec09c1184e64c2b9398314839d5\n",
       "15    d4731eaaaf4b2afab254d28e236bc980\n",
       "16    47601ce248a345cf80aa089cf9880cfa\n",
       "17    ece8e37d5f78a0b66773e8fa931dd6da\n",
       "18    8b2c11c19583e4d5b9a213b53e76730c\n",
       "19    027bf915af12d3f79f06c5867c0eddfb\n",
       "20    e8eaa36c366e8a0bafd246c24a31869b\n",
       "21    8015739cd8f10b3c9f2ea76759557c73\n",
       "22    1a046868f549224919d5aea86afcaf91\n",
       "23    8965b8a88eed81e49c3d4c63da1705e0\n",
       "24    e95235cea9f300cc59b8bea683dd19b1\n",
       "25    87e1eecf7f2d100c4707dece3f2e668c\n",
       "26    f1db0d7a1518f502c13447817490b26e\n",
       "27    630882776e420e2a50ab68c1f76a8700\n",
       "28    b1622a8e1f50f7787d172a6f7cf6c977\n",
       "29    c0e33c3e2220da8b49cf0ce915df6679\n",
       "30    884b918e8ede8673362fc916ebb89c2b\n",
       "31    07869d397bdca213cd6ca6d37961cca4\n",
       "32    c695dfe1666988e99123eaf9290c2d84\n",
       "33    d666e2b26ad834a3a31caefc780fa30b\n",
       "34    477d49ef12fbd6cddc136c12b06b590b\n",
       "35    ebd6a5f4ac7d0aad41b3828de7e9e29e\n",
       "36    26d2c708e959f2c346ebb7bcb62376f8\n",
       "37    0f43291b17a5b4460355d5d20bb34cd2\n",
       "38    81ac7889fc07902c57957226865f24e5\n",
       "39    338397ae0ea0b5f086116cbd3197dacc\n",
       "Name: universe_id, dtype: object"
      ]
     },
     "execution_count": 12,
     "metadata": {},
     "output_type": "execute_result"
    }
   ],
   "source": [
    "df[\"universe_id\"]"
   ]
  },
  {
   "cell_type": "code",
   "execution_count": 13,
   "metadata": {},
   "outputs": [
    {
     "data": {
      "text/plain": [
       "0     1.199955\n",
       "1     1.199955\n",
       "2     1.209118\n",
       "3     1.117178\n",
       "4     1.212451\n",
       "5     1.117111\n",
       "6     1.212853\n",
       "7     1.133263\n",
       "8     1.142727\n",
       "9     1.203768\n",
       "10    1.209743\n",
       "11    1.133330\n",
       "12    1.212853\n",
       "13    1.192665\n",
       "14    1.202196\n",
       "15    1.134322\n",
       "16    1.140954\n",
       "17    1.117345\n",
       "18    1.133240\n",
       "19    1.141311\n",
       "20    1.209743\n",
       "21    1.202196\n",
       "22    1.150574\n",
       "23    1.134288\n",
       "24    1.139271\n",
       "25    1.209118\n",
       "26    1.115494\n",
       "27    1.149850\n",
       "28    1.192665\n",
       "29    1.203768\n",
       "30    1.134266\n",
       "31    1.134244\n",
       "32    1.212451\n",
       "33    1.116999\n",
       "34    1.116665\n",
       "35    1.116698\n",
       "36    1.133318\n",
       "37    1.117668\n",
       "38    1.149125\n",
       "39    1.138970\n",
       "Name: avg_size, dtype: float64"
      ]
     },
     "execution_count": 13,
     "metadata": {},
     "output_type": "execute_result"
    }
   ],
   "source": [
    "df[\"avg_size\"]"
   ]
  },
  {
   "cell_type": "code",
   "execution_count": 20,
   "metadata": {},
   "outputs": [
    {
     "name": "stdout",
     "output_type": "stream",
     "text": [
      "Dropping N = 64 rows, keeping N = 64\n"
     ]
    }
   ],
   "source": [
    "#drop_mask = df_agg_full[\"sett_exclude_subgroups\"].isin(['drop-non-german'])\n",
    "#print(f\"Dropping N = {drop_mask.sum()} rows, keeping N = {(~drop_mask).sum()}\")\n",
    "#\n",
    "#df_agg_full = df_agg_full[~drop_mask]"
   ]
  },
  {
   "cell_type": "code",
   "execution_count": 21,
   "metadata": {},
   "outputs": [
    {
     "data": {
      "text/plain": [
       "array(['keep-all'], dtype=object)"
      ]
     },
     "execution_count": 21,
     "metadata": {},
     "output_type": "execute_result"
    }
   ],
   "source": [
    "#df_agg_full[\"sett_exclude_subgroups\"].unique()"
   ]
  },
  {
   "cell_type": "code",
   "execution_count": 22,
   "metadata": {},
   "outputs": [
    {
     "data": {
      "text/plain": [
       "array(['majority-minority', 'nationality-all'], dtype=object)"
      ]
     },
     "execution_count": 22,
     "metadata": {},
     "output_type": "execute_result"
    }
   ],
   "source": [
    "#df_agg_full[\"sett_eval_fairness_grouping\"].unique()"
   ]
  },
  {
   "cell_type": "code",
   "execution_count": null,
   "metadata": {},
   "outputs": [],
   "source": [
    "#df_agg_full[\"sett_eval_exclude_subgroups\"].unique()"
   ]
  },
  {
   "cell_type": "code",
   "execution_count": null,
   "metadata": {},
   "outputs": [],
   "source": [
    "#df_agg_full[\"sett_eval_on_subset\"].unique()"
   ]
  }
 ],
 "metadata": {
  "kernelspec": {
   "display_name": "Python (CMA Fairness)",
   "language": "python",
   "name": "cma_fair_env"
  },
  "language_info": {
   "codemirror_mode": {
    "name": "ipython",
    "version": 3
   },
   "file_extension": ".py",
   "mimetype": "text/x-python",
   "name": "python",
   "nbconvert_exporter": "python",
   "pygments_lexer": "ipython3",
   "version": "3.10.12"
  }
 },
 "nbformat": 4,
 "nbformat_minor": 4
}
