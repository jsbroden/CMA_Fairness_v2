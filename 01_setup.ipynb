{
 "cells": [
  {
   "cell_type": "code",
   "execution_count": 1,
   "id": "5dc21435-d90f-46fb-a645-a1e1bca9a3d2",
   "metadata": {},
   "outputs": [
    {
     "name": "stdout",
     "output_type": "stream",
     "text": [
      "/dss/dsshome1/0C/ra93lal2/cma/CMA_Fairness_v2\n"
     ]
    },
    {
     "name": "stderr",
     "output_type": "stream",
     "text": [
      "/dss/dsshome1/0C/ra93lal2/.local/share/virtualenvs/CMA_Fairness_v2-3j10GkSs/lib/python3.10/site-packages/IPython/core/magics/osm.py:393: UserWarning: This is now an optional IPython functionality, using bookmarks requires you to install the `pickleshare` library.\n",
      "  bkms = self.shell.db.get('bookmarks', {})\n",
      "/dss/dsshome1/0C/ra93lal2/.local/share/virtualenvs/CMA_Fairness_v2-3j10GkSs/lib/python3.10/site-packages/IPython/core/magics/osm.py:417: UserWarning: This is now an optional IPython functionality, setting dhist requires you to install the `pickleshare` library.\n",
      "  self.shell.db['dhist'] = compress_dhist(dhist)[-100:]\n"
     ]
    }
   ],
   "source": [
    "%cd ~/cma/CMA_Fairness_v2"
   ]
  },
  {
   "cell_type": "code",
   "execution_count": 2,
   "id": "4822403a-26ea-4566-9992-eed71ee27b55",
   "metadata": {},
   "outputs": [
    {
     "name": "stdout",
     "output_type": "stream",
     "text": [
      "Current working directory: /dss/dsshome1/0C/ra93lal2/cma/CMA_Fairness_v2\n"
     ]
    }
   ],
   "source": [
    "import os\n",
    "print(\"Current working directory:\", os.getcwd())"
   ]
  },
  {
   "cell_type": "markdown",
   "id": "6e4957e5",
   "metadata": {},
   "source": [
    "## Setup"
   ]
  },
  {
   "cell_type": "code",
   "execution_count": 3,
   "id": "6526fa94",
   "metadata": {},
   "outputs": [],
   "source": [
    "import matplotlib.pyplot as plt\n",
    "import numpy as np\n",
    "import pandas as pd\n",
    "\n",
    "from sklearn.model_selection import train_test_split"
   ]
  },
  {
   "cell_type": "markdown",
   "id": "80846e70",
   "metadata": {},
   "source": [
    "## 01 Data Checks"
   ]
  },
  {
   "cell_type": "code",
   "execution_count": 4,
   "id": "32f23ad3",
   "metadata": {},
   "outputs": [],
   "source": [
    "siab = pd.read_csv(\"data/raw/siab.csv\")"
   ]
  },
  {
   "cell_type": "code",
   "execution_count": null,
   "id": "f8c60c9a",
   "metadata": {},
   "outputs": [],
   "source": [
    "# Compute summary statistics\n",
    "siab.describe(include = 'all')"
   ]
  },
  {
   "cell_type": "code",
   "execution_count": null,
   "id": "dbe05e08",
   "metadata": {},
   "outputs": [],
   "source": [
    "# Count number of missing values\n",
    "siab.isna().sum()"
   ]
  },
  {
   "cell_type": "code",
   "execution_count": null,
   "id": "cead9cab",
   "metadata": {},
   "outputs": [],
   "source": [
    "grouped = siab.groupby('year')\n",
    "siab_s = grouped.apply(lambda x: x.sample(n = 15000, random_state = 42))\n",
    "siab_s = siab_s.reset_index(drop = True) # Ungroup"
   ]
  },
  {
   "cell_type": "code",
   "execution_count": null,
   "id": "f74a1329",
   "metadata": {},
   "outputs": [],
   "source": [
    "siab_s.groupby('year').describe(include = 'all')"
   ]
  },
  {
   "cell_type": "markdown",
   "id": "f87c6865",
   "metadata": {},
   "source": [
    "## 02 Data Split\n",
    "\n",
    "Train with 2010 - 2014, calibrate with 2015, test with 2016"
   ]
  },
  {
   "cell_type": "code",
   "execution_count": null,
   "id": "90f13552",
   "metadata": {},
   "outputs": [],
   "source": [
    "siab_train = siab_s[siab_s.year < 2015] \n",
    "siab_calib = siab[siab.year == 2015] \n",
    "siab_test = siab[siab.year == 2016]"
   ]
  },
  {
   "cell_type": "code",
   "execution_count": null,
   "id": "d8fae819",
   "metadata": {},
   "outputs": [],
   "source": [
    "# Keep protected features, data from 2010-2014\n",
    "#X_train_f = siab_train.iloc[:,4:164]\n",
    "\n",
    "X_train = siab_train.iloc[:,4:164]"
   ]
  },
  {
   "cell_type": "code",
   "execution_count": null,
   "id": "6fe2909b",
   "metadata": {},
   "outputs": [],
   "source": [
    "# Drop protected attributes, data from 2010-2014\n",
    "#X_train_s = X_train.drop(\n",
    "#    columns = ['frau1', 'maxdeutsch1', 'maxdeutsch.Missing.'])"
   ]
  },
  {
   "cell_type": "code",
   "execution_count": null,
   "id": "482375ca",
   "metadata": {},
   "outputs": [],
   "source": [
    "# ltue, from siab_train, i.e. 2010-2014\n",
    "y_train = siab_train.iloc[:, [3]]"
   ]
  },
  {
   "cell_type": "code",
   "execution_count": null,
   "id": "94a2687f",
   "metadata": {},
   "outputs": [],
   "source": [
    "# Keep protected features, data from 2015\n",
    "X_calib = siab_calib.iloc[:,4:164]\n",
    "\n",
    "# Drop protected features, data from 2015\n",
    "#X_calib_s = X_calib_f.drop(\n",
    "#    columns = ['frau1', 'maxdeutsch1', 'maxdeutsch.Missing.'])\n",
    "\n",
    "# ltue, from siab_calib, i.e. 2015\n",
    "y_calib = siab_calib.iloc[:, [3]]"
   ]
  },
  {
   "cell_type": "code",
   "execution_count": null,
   "id": "dfb5769b",
   "metadata": {},
   "outputs": [],
   "source": [
    "X_test = siab_test.iloc[:,4:164]\n",
    "\n",
    "# ltue, from siab_test, i.e. 2016\n",
    "y_test = siab_test.iloc[:, [3]]"
   ]
  },
  {
   "cell_type": "markdown",
   "id": "0bc3be90",
   "metadata": {},
   "source": [
    "## 03 Descriptive Stats"
   ]
  },
  {
   "cell_type": "code",
   "execution_count": null,
   "id": "5a352a9d",
   "metadata": {},
   "outputs": [],
   "source": [
    "siab_t = siab_train.copy(deep = True)\n",
    "siab_t = pd.concat([siab_t, siab_calib, siab_test], ignore_index=True)"
   ]
  },
  {
   "cell_type": "code",
   "execution_count": null,
   "id": "d212f108",
   "metadata": {},
   "outputs": [],
   "source": [
    "siab_t['nongerman'] = np.where(siab_t['maxdeutsch1'] == 0, 1, 0) # creates new column 'nongerman', if maxdeutsch1 == 0 then nongerman = 1, else 0 \n",
    "siab_t.loc[siab_t['maxdeutsch.Missing.'] == 1, 'nongerman'] = np.nan # overwrite nongerman with NaN for any row where maxdeutsch.Missing. equals 1\n",
    "siab_t['nongerman_male'] = np.where((siab_t['nongerman'] == 1) & (siab_t['frau1'] == 0), 1, 0)\n",
    "siab_t['nongerman_female'] = np.where((siab_t['nongerman'] == 1) & (siab_t['frau1'] == 1), 1, 0)"
   ]
  },
  {
   "cell_type": "code",
   "execution_count": null,
   "id": "03fdeefd",
   "metadata": {},
   "outputs": [],
   "source": [
    "desc1 = siab_t[['year', 'ltue']].groupby('year').mean()\n",
    "desc1.to_latex('./output/desc1.tex', float_format = \"%.3f\") # Mean LTUE over time"
   ]
  },
  {
   "cell_type": "code",
   "execution_count": null,
   "id": "c9f10328",
   "metadata": {},
   "outputs": [],
   "source": [
    "desc2a = siab_t[['year', 'frau1', 'nongerman', 'nongerman_male', 'nongerman_female']].groupby(['year']).agg(['sum', 'count'])\n",
    "desc2b = siab_t[['year', 'frau1', 'nongerman', 'nongerman_male', 'nongerman_female']].groupby(['year']).mean()\n",
    "desc2c = siab_t[['year', 'ltue', 'frau1', 'nongerman', 'nongerman_male', 'nongerman_female']].groupby(['year', 'ltue']).agg(['mean', 'count'])"
   ]
  },
  {
   "cell_type": "code",
   "execution_count": null,
   "id": "a05ff40b",
   "metadata": {},
   "outputs": [],
   "source": [
    "desc2a.to_latex('./output/desc2a.tex', float_format = \"%.3f\") # Number of cases over time\n",
    "desc2b.to_latex('./output/desc2b.tex', float_format = \"%.3f\") # Socio-demo over time\n",
    "desc2c.to_latex('./output/desc2c.tex', float_format = \"%.3f\") # Socio-demo by LTUE over time"
   ]
  },
  {
   "cell_type": "markdown",
   "id": "ca7b0f91",
   "metadata": {},
   "source": [
    "## Save "
   ]
  },
  {
   "cell_type": "code",
   "execution_count": null,
   "id": "cdb3b45c",
   "metadata": {},
   "outputs": [],
   "source": [
    "X_train.to_csv('./data/X_train.csv', index = False)\n",
    "#X_train_s.to_csv('./output/X_train_s.csv', index = False)\n",
    "y_train.to_csv('./data/y_train.csv', index = False)\n",
    "\n",
    "X_calib.to_csv('./data/X_calib.csv', index = False)\n",
    "#X_calib_s.to_csv('./output/X_calib_s.csv', index = False)\n",
    "y_calib.to_csv('./data/y_calib.csv', index = False)\n",
    "\n",
    "X_test.to_csv('./data/X_test.csv', index = False)\n",
    "#X_test_s.to_csv('./output/X_test_s.csv', index = False)\n",
    "y_test.to_csv('./data/y_test.csv', index = False)"
   ]
  },
  {
   "cell_type": "code",
   "execution_count": null,
   "id": "b39015f7-5c1b-4e40-b608-48a42a8f1a82",
   "metadata": {},
   "outputs": [],
   "source": []
  }
 ],
 "metadata": {
  "kernelspec": {
   "display_name": "Python (CMA Fairness)",
   "language": "python",
   "name": "cma_fair_env"
  },
  "language_info": {
   "codemirror_mode": {
    "name": "ipython",
    "version": 3
   },
   "file_extension": ".py",
   "mimetype": "text/x-python",
   "name": "python",
   "nbconvert_exporter": "python",
   "pygments_lexer": "ipython3",
   "version": "3.10.12"
  }
 },
 "nbformat": 4,
 "nbformat_minor": 5
}
