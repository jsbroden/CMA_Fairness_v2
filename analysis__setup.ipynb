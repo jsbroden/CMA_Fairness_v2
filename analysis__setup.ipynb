{
 "cells": [
  {
   "cell_type": "code",
   "execution_count": 1,
   "metadata": {},
   "outputs": [],
   "source": [
    "import pandas as pd"
   ]
  },
  {
   "attachments": {},
   "cell_type": "markdown",
   "metadata": {},
   "source": [
    "# Configuration"
   ]
  },
  {
   "cell_type": "code",
   "execution_count": 2,
   "metadata": {},
   "outputs": [],
   "source": [
    "# Auto-reload the custom package\n",
    "%load_ext autoreload\n",
    "%autoreload 1\n",
    "%aimport fairness_multiverse\n"
   ]
  },
  {
   "cell_type": "code",
   "execution_count": 8,
   "metadata": {},
   "outputs": [],
   "source": [
    "RUN_TO_ANALYSE = \"1\""
   ]
  },
  {
   "cell_type": "code",
   "execution_count": 10,
   "metadata": {},
   "outputs": [],
   "source": [
    "PREFIX_SETTINGS = \"sett_\"\n",
    "PREFIX_EVAL = \"sett_eval_\"\n",
    "PREFIX_PERFORMANCE = \"perf_\"\n",
    "PREFIX_FAIRNESS = \"fair_\""
   ]
  },
  {
   "cell_type": "code",
   "execution_count": 11,
   "metadata": {},
   "outputs": [],
   "source": [
    "from pathlib import Path\n",
    "\n",
    "OUTPUT_DIR = Path(\".\") / \"output\"\n",
    "\n",
    "# Directory that will contain outputs from analysis\n",
    "ANALYSIS_OUTPUT_DIR = OUTPUT_DIR / \"analyses\" / (str(RUN_TO_ANALYSE))\n",
    "ANALYSIS_OUTPUT_DIR.mkdir(parents=True, exist_ok=True)\n",
    "\n",
    "DATA_DIR = OUTPUT_DIR / \"runs\" / str(RUN_TO_ANALYSE) / \"data\""
   ]
  },
  {
   "cell_type": "code",
   "execution_count": 12,
   "metadata": {},
   "outputs": [],
   "source": [
    "main_fairness_metric = \"fair_main_equalized_odds_difference\""
   ]
  },
  {
   "attachments": {},
   "cell_type": "markdown",
   "metadata": {},
   "source": [
    "## Data Loading"
   ]
  },
  {
   "cell_type": "code",
   "execution_count": 13,
   "metadata": {},
   "outputs": [],
   "source": [
    "df_agg_raw = pd.read_csv(DATA_DIR / f\"agg_{RUN_TO_ANALYSE}_run_outputs.csv.gz\")"
   ]
  },
  {
   "cell_type": "code",
   "execution_count": 14,
   "metadata": {},
   "outputs": [
    {
     "data": {
      "application/vnd.microsoft.datawrangler.viewer.v0+json": {
       "columns": [
        {
         "name": "index",
         "rawType": "int64",
         "type": "integer"
        },
        {
         "name": "sett_cutoff",
         "rawType": "object",
         "type": "string"
        },
        {
         "name": "sett_eval_fairness_grouping",
         "rawType": "object",
         "type": "string"
        },
        {
         "name": "sett_exclude_features",
         "rawType": "object",
         "type": "string"
        },
        {
         "name": "sett_exclude_subgroups",
         "rawType": "object",
         "type": "string"
        },
        {
         "name": "sett_model",
         "rawType": "object",
         "type": "string"
        },
        {
         "name": "Unnamed: 0",
         "rawType": "int64",
         "type": "integer"
        },
        {
         "name": "run_no",
         "rawType": "int64",
         "type": "integer"
        },
        {
         "name": "universe_id",
         "rawType": "object",
         "type": "string"
        },
        {
         "name": "universe_settings",
         "rawType": "object",
         "type": "string"
        },
        {
         "name": "execution_time",
         "rawType": "float64",
         "type": "float"
        },
        {
         "name": "test_size_n",
         "rawType": "int64",
         "type": "integer"
        },
        {
         "name": "test_size_frac",
         "rawType": "float64",
         "type": "float"
        },
        {
         "name": "fair_main_equalized_odds_difference",
         "rawType": "float64",
         "type": "float"
        },
        {
         "name": "fair_main_equalized_odds_ratio",
         "rawType": "float64",
         "type": "float"
        },
        {
         "name": "fair_main_demographic_parity_difference",
         "rawType": "float64",
         "type": "float"
        },
        {
         "name": "fair_main_demographic_parity_ratio",
         "rawType": "float64",
         "type": "float"
        },
        {
         "name": "perf_ovrl_accuracy",
         "rawType": "float64",
         "type": "float"
        },
        {
         "name": "perf_ovrl_balanced accuracy",
         "rawType": "float64",
         "type": "float"
        },
        {
         "name": "perf_ovrl_f1",
         "rawType": "float64",
         "type": "float"
        },
        {
         "name": "perf_ovrl_precision",
         "rawType": "float64",
         "type": "float"
        },
        {
         "name": "perf_ovrl_false positive rate",
         "rawType": "float64",
         "type": "float"
        },
        {
         "name": "perf_ovrl_false negative rate",
         "rawType": "float64",
         "type": "float"
        },
        {
         "name": "perf_ovrl_selection rate",
         "rawType": "float64",
         "type": "float"
        },
        {
         "name": "perf_ovrl_count",
         "rawType": "float64",
         "type": "float"
        },
        {
         "name": "perf_grp_accuracy_majority",
         "rawType": "float64",
         "type": "float"
        },
        {
         "name": "perf_grp_accuracy_minority",
         "rawType": "float64",
         "type": "float"
        },
        {
         "name": "perf_grp_balanced accuracy_majority",
         "rawType": "float64",
         "type": "float"
        },
        {
         "name": "perf_grp_balanced accuracy_minority",
         "rawType": "float64",
         "type": "float"
        },
        {
         "name": "perf_grp_f1_majority",
         "rawType": "float64",
         "type": "float"
        },
        {
         "name": "perf_grp_f1_minority",
         "rawType": "float64",
         "type": "float"
        },
        {
         "name": "perf_grp_precision_majority",
         "rawType": "float64",
         "type": "float"
        },
        {
         "name": "perf_grp_precision_minority",
         "rawType": "float64",
         "type": "float"
        },
        {
         "name": "perf_grp_false positive rate_majority",
         "rawType": "float64",
         "type": "float"
        },
        {
         "name": "perf_grp_false positive rate_minority",
         "rawType": "float64",
         "type": "float"
        },
        {
         "name": "perf_grp_false negative rate_majority",
         "rawType": "float64",
         "type": "float"
        },
        {
         "name": "perf_grp_false negative rate_minority",
         "rawType": "float64",
         "type": "float"
        },
        {
         "name": "perf_grp_selection rate_majority",
         "rawType": "float64",
         "type": "float"
        },
        {
         "name": "perf_grp_selection rate_minority",
         "rawType": "float64",
         "type": "float"
        },
        {
         "name": "perf_grp_count_majority",
         "rawType": "float64",
         "type": "float"
        },
        {
         "name": "perf_grp_count_minority",
         "rawType": "float64",
         "type": "float"
        },
        {
         "name": "perf_grp_accuracy_0",
         "rawType": "float64",
         "type": "float"
        },
        {
         "name": "perf_grp_accuracy_1",
         "rawType": "float64",
         "type": "float"
        },
        {
         "name": "perf_grp_balanced accuracy_0",
         "rawType": "float64",
         "type": "float"
        },
        {
         "name": "perf_grp_balanced accuracy_1",
         "rawType": "float64",
         "type": "float"
        },
        {
         "name": "perf_grp_f1_0",
         "rawType": "float64",
         "type": "float"
        },
        {
         "name": "perf_grp_f1_1",
         "rawType": "float64",
         "type": "float"
        },
        {
         "name": "perf_grp_precision_0",
         "rawType": "float64",
         "type": "float"
        },
        {
         "name": "perf_grp_precision_1",
         "rawType": "float64",
         "type": "float"
        },
        {
         "name": "perf_grp_false positive rate_0",
         "rawType": "float64",
         "type": "float"
        },
        {
         "name": "perf_grp_false positive rate_1",
         "rawType": "float64",
         "type": "float"
        },
        {
         "name": "perf_grp_false negative rate_0",
         "rawType": "float64",
         "type": "float"
        },
        {
         "name": "perf_grp_false negative rate_1",
         "rawType": "float64",
         "type": "float"
        },
        {
         "name": "perf_grp_selection rate_0",
         "rawType": "float64",
         "type": "float"
        },
        {
         "name": "perf_grp_selection rate_1",
         "rawType": "float64",
         "type": "float"
        },
        {
         "name": "perf_grp_count_0",
         "rawType": "float64",
         "type": "float"
        },
        {
         "name": "perf_grp_count_1",
         "rawType": "float64",
         "type": "float"
        }
       ],
       "ref": "83bf1fa8-b325-4cf1-837c-2695a81c038e",
       "rows": [
        [
         "0",
         "quantile_0.1",
         "majority-minority",
         "none",
         "keep-all",
         "rf",
         "0",
         "1",
         "1a046868f549224919d5aea86afcaf91",
         "{\"cutoff\": \"quantile_0.1\", \"eval_fairness_grouping\": \"majority-minority\", \"exclude_features\": \"none\", \"exclude_subgroups\": \"keep-all\", \"model\": \"rf\"}",
         "22.449074029922485",
         "89710",
         "1.0",
         "0.0440481956541722",
         "0.952963334546749",
         "0.0445103148910316",
         "0.9528431184748704",
         "0.1905807602273994",
         "0.5290645993948615",
         "0.2378108303855398",
         "0.1352419383722735",
         "0.9262295081967212",
         "0.0156412930135557",
         "0.9336863225950284",
         "89710.0",
         "0.1862946364030649",
         "0.205014605647517",
         "0.5280475371358814",
         "0.5301428987869666",
         "0.2437792228731122",
         "0.2164963293507989",
         "0.1389535596127925",
         "0.1221241812374817",
         "0.936465100782942",
         "0.8924169051287696",
         "0.0074398249452954",
         "0.0472972972972973",
         "0.9438774034986266",
         "0.899367088607595",
         "69170.0",
         "20540.0",
         null,
         null,
         null,
         null,
         null,
         null,
         null,
         null,
         null,
         null,
         null,
         null,
         null,
         null,
         null,
         null
        ],
        [
         "1",
         "quantile_0.1",
         "nationality-all",
         "none",
         "keep-all",
         "rf",
         "1",
         "1",
         "1a046868f549224919d5aea86afcaf91",
         "{\"cutoff\": \"quantile_0.1\", \"eval_fairness_grouping\": \"nationality-all\", \"exclude_features\": \"none\", \"exclude_subgroups\": \"keep-all\", \"model\": \"rf\"}",
         "22.449074029922485",
         "89710",
         "1.0",
         "0.0440481956541722",
         "0.952963334546749",
         "0.0445103148910316",
         "0.9528431184748704",
         "0.1905807602273994",
         "0.5290645993948615",
         "0.2378108303855398",
         "0.1352419383722735",
         "0.9262295081967212",
         "0.0156412930135557",
         "0.9336863225950284",
         "89710.0",
         null,
         null,
         null,
         null,
         null,
         null,
         null,
         null,
         null,
         null,
         null,
         null,
         null,
         null,
         null,
         null,
         "0.205014605647517",
         "0.1862946364030649",
         "0.5301428987869666",
         "0.5280475371358814",
         "0.2164963293507989",
         "0.2437792228731122",
         "0.1221241812374817",
         "0.1389535596127925",
         "0.8924169051287696",
         "0.936465100782942",
         "0.0472972972972973",
         "0.0074398249452954",
         "0.899367088607595",
         "0.9438774034986266",
         "20540.0",
         "69170.0"
        ],
        [
         "2",
         "quantile_0.25",
         "majority-minority",
         "none",
         "keep-all",
         "rf",
         "2",
         "1",
         "1a046868f549224919d5aea86afcaf91",
         "{\"cutoff\": \"quantile_0.25\", \"eval_fairness_grouping\": \"majority-minority\", \"exclude_features\": \"none\", \"exclude_subgroups\": \"keep-all\", \"model\": \"rf\"}",
         "22.449074029922485",
         "89710",
         "1.0",
         "0.0852292048613164",
         "0.9102540400423464",
         "0.0649637959283248",
         "0.9152001176757458",
         "0.3596589009029093",
         "0.6037745592799489",
         "0.2719172613087618",
         "0.1591755575670341",
         "0.7245850489757295",
         "0.0678658324643726",
         "0.7512094526808606",
         "89710.0",
         "0.3527540841405233",
         "0.3829113924050633",
         "0.6057704189480752",
         "0.5923027277635329",
         "0.2794141316594238",
         "0.2441409744170791",
         "0.1638044914134742",
         "0.1421429067425873",
         "0.7381309345327336",
         "0.6798371120405019",
         "0.0503282275711159",
         "0.1355574324324324",
         "0.7660835622379645",
         "0.7011197663096397",
         "69170.0",
         "20540.0",
         null,
         null,
         null,
         null,
         null,
         null,
         null,
         null,
         null,
         null,
         null,
         null,
         null,
         null,
         null,
         null
        ],
        [
         "3",
         "quantile_0.25",
         "nationality-all",
         "none",
         "keep-all",
         "rf",
         "3",
         "1",
         "1a046868f549224919d5aea86afcaf91",
         "{\"cutoff\": \"quantile_0.25\", \"eval_fairness_grouping\": \"nationality-all\", \"exclude_features\": \"none\", \"exclude_subgroups\": \"keep-all\", \"model\": \"rf\"}",
         "22.449074029922485",
         "89710",
         "1.0",
         "0.0852292048613164",
         "0.9102540400423464",
         "0.0649637959283248",
         "0.9152001176757458",
         "0.3596589009029093",
         "0.6037745592799489",
         "0.2719172613087618",
         "0.1591755575670341",
         "0.7245850489757295",
         "0.0678658324643726",
         "0.7512094526808606",
         "89710.0",
         null,
         null,
         null,
         null,
         null,
         null,
         null,
         null,
         null,
         null,
         null,
         null,
         null,
         null,
         null,
         null,
         "0.3829113924050633",
         "0.3527540841405233",
         "0.5923027277635329",
         "0.6057704189480752",
         "0.2441409744170791",
         "0.2794141316594238",
         "0.1421429067425873",
         "0.1638044914134742",
         "0.6798371120405019",
         "0.7381309345327336",
         "0.1355574324324324",
         "0.0503282275711159",
         "0.7011197663096397",
         "0.7660835622379645",
         "20540.0",
         "69170.0"
        ],
        [
         "4",
         "quantile_0.1",
         "majority-minority",
         "sex",
         "drop-non-german",
         "logreg",
         "4",
         "1",
         "aeda81ea848062c8b09ab80466cf07c3",
         "{\"cutoff\": \"quantile_0.1\", \"eval_fairness_grouping\": \"majority-minority\", \"exclude_features\": \"sex\", \"exclude_subgroups\": \"drop-non-german\", \"model\": \"logreg\"}",
         "174.3080439567566",
         "89710",
         "1.0",
         "0.1473763118440779",
         "0.852623688155922",
         "0.129694954460026",
         "0.870305045539974",
         "0.2255155501058967",
         "0.5511774930047784",
         "0.2468156145999328",
         "0.1409975352679622",
         "0.8868699010255492",
         "0.0107751129648939",
         "0.9",
         "89710.0",
         "0.2582477952869741",
         "0.1152872444011684",
         "0.5669047861189755",
         "0.5",
         "0.2600556685270915",
         "0.2067400034922298",
         "0.149769929733052",
         "0.1152872444011684",
         "0.852623688155922",
         "1.0",
         "0.0135667396061269",
         "0.0",
         "0.870305045539974",
         "1.0",
         "69170.0",
         "20540.0",
         null,
         null,
         null,
         null,
         null,
         null,
         null,
         null,
         null,
         null,
         null,
         null,
         null,
         null,
         null,
         null
        ]
       ],
       "shape": {
        "columns": 56,
        "rows": 5
       }
      },
      "text/html": [
       "<div>\n",
       "<style scoped>\n",
       "    .dataframe tbody tr th:only-of-type {\n",
       "        vertical-align: middle;\n",
       "    }\n",
       "\n",
       "    .dataframe tbody tr th {\n",
       "        vertical-align: top;\n",
       "    }\n",
       "\n",
       "    .dataframe thead th {\n",
       "        text-align: right;\n",
       "    }\n",
       "</style>\n",
       "<table border=\"1\" class=\"dataframe\">\n",
       "  <thead>\n",
       "    <tr style=\"text-align: right;\">\n",
       "      <th></th>\n",
       "      <th>sett_cutoff</th>\n",
       "      <th>sett_eval_fairness_grouping</th>\n",
       "      <th>sett_exclude_features</th>\n",
       "      <th>sett_exclude_subgroups</th>\n",
       "      <th>sett_model</th>\n",
       "      <th>Unnamed: 0</th>\n",
       "      <th>run_no</th>\n",
       "      <th>universe_id</th>\n",
       "      <th>universe_settings</th>\n",
       "      <th>execution_time</th>\n",
       "      <th>...</th>\n",
       "      <th>perf_grp_precision_0</th>\n",
       "      <th>perf_grp_precision_1</th>\n",
       "      <th>perf_grp_false positive rate_0</th>\n",
       "      <th>perf_grp_false positive rate_1</th>\n",
       "      <th>perf_grp_false negative rate_0</th>\n",
       "      <th>perf_grp_false negative rate_1</th>\n",
       "      <th>perf_grp_selection rate_0</th>\n",
       "      <th>perf_grp_selection rate_1</th>\n",
       "      <th>perf_grp_count_0</th>\n",
       "      <th>perf_grp_count_1</th>\n",
       "    </tr>\n",
       "  </thead>\n",
       "  <tbody>\n",
       "    <tr>\n",
       "      <th>0</th>\n",
       "      <td>quantile_0.1</td>\n",
       "      <td>majority-minority</td>\n",
       "      <td>none</td>\n",
       "      <td>keep-all</td>\n",
       "      <td>rf</td>\n",
       "      <td>0</td>\n",
       "      <td>1</td>\n",
       "      <td>1a046868f549224919d5aea86afcaf91</td>\n",
       "      <td>{\"cutoff\": \"quantile_0.1\", \"eval_fairness_grou...</td>\n",
       "      <td>22.449074</td>\n",
       "      <td>...</td>\n",
       "      <td>NaN</td>\n",
       "      <td>NaN</td>\n",
       "      <td>NaN</td>\n",
       "      <td>NaN</td>\n",
       "      <td>NaN</td>\n",
       "      <td>NaN</td>\n",
       "      <td>NaN</td>\n",
       "      <td>NaN</td>\n",
       "      <td>NaN</td>\n",
       "      <td>NaN</td>\n",
       "    </tr>\n",
       "    <tr>\n",
       "      <th>1</th>\n",
       "      <td>quantile_0.1</td>\n",
       "      <td>nationality-all</td>\n",
       "      <td>none</td>\n",
       "      <td>keep-all</td>\n",
       "      <td>rf</td>\n",
       "      <td>1</td>\n",
       "      <td>1</td>\n",
       "      <td>1a046868f549224919d5aea86afcaf91</td>\n",
       "      <td>{\"cutoff\": \"quantile_0.1\", \"eval_fairness_grou...</td>\n",
       "      <td>22.449074</td>\n",
       "      <td>...</td>\n",
       "      <td>0.122124</td>\n",
       "      <td>0.138954</td>\n",
       "      <td>0.892417</td>\n",
       "      <td>0.936465</td>\n",
       "      <td>0.047297</td>\n",
       "      <td>0.007440</td>\n",
       "      <td>0.899367</td>\n",
       "      <td>0.943877</td>\n",
       "      <td>20540.0</td>\n",
       "      <td>69170.0</td>\n",
       "    </tr>\n",
       "    <tr>\n",
       "      <th>2</th>\n",
       "      <td>quantile_0.25</td>\n",
       "      <td>majority-minority</td>\n",
       "      <td>none</td>\n",
       "      <td>keep-all</td>\n",
       "      <td>rf</td>\n",
       "      <td>2</td>\n",
       "      <td>1</td>\n",
       "      <td>1a046868f549224919d5aea86afcaf91</td>\n",
       "      <td>{\"cutoff\": \"quantile_0.25\", \"eval_fairness_gro...</td>\n",
       "      <td>22.449074</td>\n",
       "      <td>...</td>\n",
       "      <td>NaN</td>\n",
       "      <td>NaN</td>\n",
       "      <td>NaN</td>\n",
       "      <td>NaN</td>\n",
       "      <td>NaN</td>\n",
       "      <td>NaN</td>\n",
       "      <td>NaN</td>\n",
       "      <td>NaN</td>\n",
       "      <td>NaN</td>\n",
       "      <td>NaN</td>\n",
       "    </tr>\n",
       "    <tr>\n",
       "      <th>3</th>\n",
       "      <td>quantile_0.25</td>\n",
       "      <td>nationality-all</td>\n",
       "      <td>none</td>\n",
       "      <td>keep-all</td>\n",
       "      <td>rf</td>\n",
       "      <td>3</td>\n",
       "      <td>1</td>\n",
       "      <td>1a046868f549224919d5aea86afcaf91</td>\n",
       "      <td>{\"cutoff\": \"quantile_0.25\", \"eval_fairness_gro...</td>\n",
       "      <td>22.449074</td>\n",
       "      <td>...</td>\n",
       "      <td>0.142143</td>\n",
       "      <td>0.163804</td>\n",
       "      <td>0.679837</td>\n",
       "      <td>0.738131</td>\n",
       "      <td>0.135557</td>\n",
       "      <td>0.050328</td>\n",
       "      <td>0.701120</td>\n",
       "      <td>0.766084</td>\n",
       "      <td>20540.0</td>\n",
       "      <td>69170.0</td>\n",
       "    </tr>\n",
       "    <tr>\n",
       "      <th>4</th>\n",
       "      <td>quantile_0.1</td>\n",
       "      <td>majority-minority</td>\n",
       "      <td>sex</td>\n",
       "      <td>drop-non-german</td>\n",
       "      <td>logreg</td>\n",
       "      <td>4</td>\n",
       "      <td>1</td>\n",
       "      <td>aeda81ea848062c8b09ab80466cf07c3</td>\n",
       "      <td>{\"cutoff\": \"quantile_0.1\", \"eval_fairness_grou...</td>\n",
       "      <td>174.308044</td>\n",
       "      <td>...</td>\n",
       "      <td>NaN</td>\n",
       "      <td>NaN</td>\n",
       "      <td>NaN</td>\n",
       "      <td>NaN</td>\n",
       "      <td>NaN</td>\n",
       "      <td>NaN</td>\n",
       "      <td>NaN</td>\n",
       "      <td>NaN</td>\n",
       "      <td>NaN</td>\n",
       "      <td>NaN</td>\n",
       "    </tr>\n",
       "  </tbody>\n",
       "</table>\n",
       "<p>5 rows × 56 columns</p>\n",
       "</div>"
      ],
      "text/plain": [
       "     sett_cutoff sett_eval_fairness_grouping sett_exclude_features  \\\n",
       "0   quantile_0.1           majority-minority                  none   \n",
       "1   quantile_0.1             nationality-all                  none   \n",
       "2  quantile_0.25           majority-minority                  none   \n",
       "3  quantile_0.25             nationality-all                  none   \n",
       "4   quantile_0.1           majority-minority                   sex   \n",
       "\n",
       "  sett_exclude_subgroups sett_model  Unnamed: 0  run_no  \\\n",
       "0               keep-all         rf           0       1   \n",
       "1               keep-all         rf           1       1   \n",
       "2               keep-all         rf           2       1   \n",
       "3               keep-all         rf           3       1   \n",
       "4        drop-non-german     logreg           4       1   \n",
       "\n",
       "                        universe_id  \\\n",
       "0  1a046868f549224919d5aea86afcaf91   \n",
       "1  1a046868f549224919d5aea86afcaf91   \n",
       "2  1a046868f549224919d5aea86afcaf91   \n",
       "3  1a046868f549224919d5aea86afcaf91   \n",
       "4  aeda81ea848062c8b09ab80466cf07c3   \n",
       "\n",
       "                                   universe_settings  execution_time  ...  \\\n",
       "0  {\"cutoff\": \"quantile_0.1\", \"eval_fairness_grou...       22.449074  ...   \n",
       "1  {\"cutoff\": \"quantile_0.1\", \"eval_fairness_grou...       22.449074  ...   \n",
       "2  {\"cutoff\": \"quantile_0.25\", \"eval_fairness_gro...       22.449074  ...   \n",
       "3  {\"cutoff\": \"quantile_0.25\", \"eval_fairness_gro...       22.449074  ...   \n",
       "4  {\"cutoff\": \"quantile_0.1\", \"eval_fairness_grou...      174.308044  ...   \n",
       "\n",
       "   perf_grp_precision_0  perf_grp_precision_1  perf_grp_false positive rate_0  \\\n",
       "0                   NaN                   NaN                             NaN   \n",
       "1              0.122124              0.138954                        0.892417   \n",
       "2                   NaN                   NaN                             NaN   \n",
       "3              0.142143              0.163804                        0.679837   \n",
       "4                   NaN                   NaN                             NaN   \n",
       "\n",
       "   perf_grp_false positive rate_1  perf_grp_false negative rate_0  \\\n",
       "0                             NaN                             NaN   \n",
       "1                        0.936465                        0.047297   \n",
       "2                             NaN                             NaN   \n",
       "3                        0.738131                        0.135557   \n",
       "4                             NaN                             NaN   \n",
       "\n",
       "   perf_grp_false negative rate_1  perf_grp_selection rate_0  \\\n",
       "0                             NaN                        NaN   \n",
       "1                        0.007440                   0.899367   \n",
       "2                             NaN                        NaN   \n",
       "3                        0.050328                   0.701120   \n",
       "4                             NaN                        NaN   \n",
       "\n",
       "   perf_grp_selection rate_1  perf_grp_count_0  perf_grp_count_1  \n",
       "0                        NaN               NaN               NaN  \n",
       "1                   0.943877           20540.0           69170.0  \n",
       "2                        NaN               NaN               NaN  \n",
       "3                   0.766084           20540.0           69170.0  \n",
       "4                        NaN               NaN               NaN  \n",
       "\n",
       "[5 rows x 56 columns]"
      ]
     },
     "execution_count": 14,
     "metadata": {},
     "output_type": "execute_result"
    }
   ],
   "source": [
    "import json\n",
    "\n",
    "df_settings = pd.json_normalize(\n",
    "    df_agg_raw[\"universe_settings\"].apply(json.loads)\n",
    ").add_prefix(\n",
    "    PREFIX_SETTINGS\n",
    ")\n",
    "\n",
    "df_agg_full = df_settings.join(df_agg_raw)\n",
    "df_agg_full.head()"
   ]
  },
  {
   "cell_type": "code",
   "execution_count": 15,
   "metadata": {},
   "outputs": [
    {
     "name": "stdout",
     "output_type": "stream",
     "text": [
      "The data has N = 128 rows and N = 56 columns.\n"
     ]
    }
   ],
   "source": [
    "rows, columns = df_agg_full.shape\n",
    "print(f\"The data has N = {rows} rows and N = {columns} columns.\")"
   ]
  },
  {
   "cell_type": "code",
   "execution_count": 16,
   "metadata": {},
   "outputs": [],
   "source": [
    "cols_settings = list(df_agg_full.columns[df_agg_full.columns.str.startswith(PREFIX_SETTINGS)])\n",
    "cols_eval = list(df_agg_full.columns[df_agg_full.columns.str.startswith(PREFIX_EVAL)])\n",
    "cols_non_eval = list(set(cols_settings) - set(cols_eval))\n",
    "cols_performance = list(df_agg_full.columns[df_agg_full.columns.str.startswith(PREFIX_PERFORMANCE)])\n",
    "cols_fairness = list(df_agg_full.columns[df_agg_full.columns.str.startswith(PREFIX_FAIRNESS)])\n"
   ]
  },
  {
   "cell_type": "code",
   "execution_count": 17,
   "metadata": {},
   "outputs": [
    {
     "data": {
      "application/vnd.microsoft.datawrangler.viewer.v0+json": {
       "columns": [
        {
         "name": "index",
         "rawType": "int64",
         "type": "integer"
        },
        {
         "name": "universe_id",
         "rawType": "object",
         "type": "string"
        }
       ],
       "ref": "6caba375-9a3c-4fb8-814f-2b3dffaff9bd",
       "rows": [
        [
         "0",
         "1a046868f549224919d5aea86afcaf91"
        ],
        [
         "1",
         "1a046868f549224919d5aea86afcaf91"
        ],
        [
         "2",
         "1a046868f549224919d5aea86afcaf91"
        ],
        [
         "3",
         "1a046868f549224919d5aea86afcaf91"
        ],
        [
         "4",
         "aeda81ea848062c8b09ab80466cf07c3"
        ],
        [
         "5",
         "aeda81ea848062c8b09ab80466cf07c3"
        ],
        [
         "6",
         "aeda81ea848062c8b09ab80466cf07c3"
        ],
        [
         "7",
         "aeda81ea848062c8b09ab80466cf07c3"
        ],
        [
         "8",
         "e95235cea9f300cc59b8bea683dd19b1"
        ],
        [
         "9",
         "e95235cea9f300cc59b8bea683dd19b1"
        ],
        [
         "10",
         "e95235cea9f300cc59b8bea683dd19b1"
        ],
        [
         "11",
         "e95235cea9f300cc59b8bea683dd19b1"
        ],
        [
         "12",
         "12a5fec09c1184e64c2b9398314839d5"
        ],
        [
         "13",
         "12a5fec09c1184e64c2b9398314839d5"
        ],
        [
         "14",
         "12a5fec09c1184e64c2b9398314839d5"
        ],
        [
         "15",
         "12a5fec09c1184e64c2b9398314839d5"
        ],
        [
         "16",
         "c0e33c3e2220da8b49cf0ce915df6679"
        ],
        [
         "17",
         "c0e33c3e2220da8b49cf0ce915df6679"
        ],
        [
         "18",
         "c0e33c3e2220da8b49cf0ce915df6679"
        ],
        [
         "19",
         "c0e33c3e2220da8b49cf0ce915df6679"
        ],
        [
         "20",
         "1485d41cc20949b2d1406cdcf750dbda"
        ],
        [
         "21",
         "1485d41cc20949b2d1406cdcf750dbda"
        ],
        [
         "22",
         "1485d41cc20949b2d1406cdcf750dbda"
        ],
        [
         "23",
         "1485d41cc20949b2d1406cdcf750dbda"
        ],
        [
         "24",
         "04a5873dee9dbd78c41d68119fadece0"
        ],
        [
         "25",
         "04a5873dee9dbd78c41d68119fadece0"
        ],
        [
         "26",
         "04a5873dee9dbd78c41d68119fadece0"
        ],
        [
         "27",
         "04a5873dee9dbd78c41d68119fadece0"
        ],
        [
         "28",
         "027bf915af12d3f79f06c5867c0eddfb"
        ],
        [
         "29",
         "027bf915af12d3f79f06c5867c0eddfb"
        ],
        [
         "30",
         "027bf915af12d3f79f06c5867c0eddfb"
        ],
        [
         "31",
         "027bf915af12d3f79f06c5867c0eddfb"
        ],
        [
         "32",
         "47601ce248a345cf80aa089cf9880cfa"
        ],
        [
         "33",
         "47601ce248a345cf80aa089cf9880cfa"
        ],
        [
         "34",
         "47601ce248a345cf80aa089cf9880cfa"
        ],
        [
         "35",
         "47601ce248a345cf80aa089cf9880cfa"
        ],
        [
         "36",
         "37cb643ae0e5b9b35a6d97f8a210c57b"
        ],
        [
         "37",
         "37cb643ae0e5b9b35a6d97f8a210c57b"
        ],
        [
         "38",
         "37cb643ae0e5b9b35a6d97f8a210c57b"
        ],
        [
         "39",
         "37cb643ae0e5b9b35a6d97f8a210c57b"
        ],
        [
         "40",
         "f4aa7f1a938cc9245663d6b4d0596022"
        ],
        [
         "41",
         "f4aa7f1a938cc9245663d6b4d0596022"
        ],
        [
         "42",
         "f4aa7f1a938cc9245663d6b4d0596022"
        ],
        [
         "43",
         "f4aa7f1a938cc9245663d6b4d0596022"
        ],
        [
         "44",
         "81ac7889fc07902c57957226865f24e5"
        ],
        [
         "45",
         "81ac7889fc07902c57957226865f24e5"
        ],
        [
         "46",
         "81ac7889fc07902c57957226865f24e5"
        ],
        [
         "47",
         "81ac7889fc07902c57957226865f24e5"
        ],
        [
         "48",
         "d68204b406b3db0bba5ef9dfec05f208"
        ],
        [
         "49",
         "d68204b406b3db0bba5ef9dfec05f208"
        ]
       ],
       "shape": {
        "columns": 1,
        "rows": 128
       }
      },
      "text/plain": [
       "0      1a046868f549224919d5aea86afcaf91\n",
       "1      1a046868f549224919d5aea86afcaf91\n",
       "2      1a046868f549224919d5aea86afcaf91\n",
       "3      1a046868f549224919d5aea86afcaf91\n",
       "4      aeda81ea848062c8b09ab80466cf07c3\n",
       "                     ...               \n",
       "123    26d2c708e959f2c346ebb7bcb62376f8\n",
       "124    418d84cd0641196cf291bbbd3833bfcd\n",
       "125    418d84cd0641196cf291bbbd3833bfcd\n",
       "126    418d84cd0641196cf291bbbd3833bfcd\n",
       "127    418d84cd0641196cf291bbbd3833bfcd\n",
       "Name: universe_id, Length: 128, dtype: object"
      ]
     },
     "execution_count": 17,
     "metadata": {},
     "output_type": "execute_result"
    }
   ],
   "source": [
    "df_agg_full[\"universe_id\"]"
   ]
  },
  {
   "cell_type": "code",
   "execution_count": 18,
   "metadata": {},
   "outputs": [
    {
     "name": "stdout",
     "output_type": "stream",
     "text": [
      "Dropping N = 64 rows, keeping N = 64\n"
     ]
    }
   ],
   "source": [
    "drop_mask = df_agg_full[\"sett_exclude_subgroups\"].isin(['drop-non-german'])\n",
    "print(f\"Dropping N = {drop_mask.sum()} rows, keeping N = {(~drop_mask).sum()}\")\n",
    "\n",
    "df_agg_full = df_agg_full[~drop_mask]"
   ]
  },
  {
   "cell_type": "code",
   "execution_count": 19,
   "metadata": {},
   "outputs": [
    {
     "data": {
      "text/plain": [
       "array(['keep-all'], dtype=object)"
      ]
     },
     "execution_count": 19,
     "metadata": {},
     "output_type": "execute_result"
    }
   ],
   "source": [
    "df_agg_full[\"sett_exclude_subgroups\"].unique()"
   ]
  },
  {
   "cell_type": "code",
   "execution_count": 20,
   "metadata": {},
   "outputs": [
    {
     "data": {
      "text/plain": [
       "array(['majority-minority', 'nationality-all'], dtype=object)"
      ]
     },
     "execution_count": 20,
     "metadata": {},
     "output_type": "execute_result"
    }
   ],
   "source": [
    "df_agg_full[\"sett_eval_fairness_grouping\"].unique()"
   ]
  },
  {
   "cell_type": "code",
   "execution_count": 22,
   "metadata": {},
   "outputs": [],
   "source": [
    "#df_agg_full[\"sett_eval_exclude_subgroups\"].unique()"
   ]
  },
  {
   "cell_type": "code",
   "execution_count": 24,
   "metadata": {},
   "outputs": [],
   "source": [
    "#df_agg_full[\"sett_eval_on_subset\"].unique()"
   ]
  }
 ],
 "metadata": {
  "kernelspec": {
   "display_name": "fairml-multiverse-emco0tgS",
   "language": "python",
   "name": "python3"
  },
  "language_info": {
   "codemirror_mode": {
    "name": "ipython",
    "version": 3
   },
   "file_extension": ".py",
   "mimetype": "text/x-python",
   "name": "python",
   "nbconvert_exporter": "python",
   "pygments_lexer": "ipython3",
   "version": "3.11.8"
  }
 },
 "nbformat": 4,
 "nbformat_minor": 2
}
